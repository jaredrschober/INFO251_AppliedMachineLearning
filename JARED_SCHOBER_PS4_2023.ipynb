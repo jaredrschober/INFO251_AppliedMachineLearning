{
 "cells": [
  {
   "cell_type": "markdown",
   "metadata": {
    "id": "ckWwG9pdjl7E"
   },
   "source": [
    "This is a fun but challenging problem set. It will test your python skills, as well as your understanding of the material in class and in the readings. Start early and debug often! Some notes:\n",
    "\n",
    "* Part 1 is meant to be easy, so get through it quickly.\n",
    "* Part 2 (especially 2.1) will be difficult, but it is the lynchpin of this problem set so make sure to do it well and understand what you've done. If you find your gradient descent algorithm is taking more than a few minutes to complete, debug more, compare notes with others, and go to the TA sessions (especially the sections on vectorized computation and computational efficiency).\n",
    "* Depending on how well you've done 2.1, parts 2.3 and 4.3 will be relatively painless or incredibly painful. \n",
    "* Part 4 (especially 4.3) will be computationally intensive. Don't leave this until the last minute, otherwise your code might be running when the deadline arrives.\n",
    "* Do the extra credit problems last. This can help you increase your scores"
   ]
  },
  {
   "cell_type": "markdown",
   "metadata": {
    "id": "9Bscj7wWjl7I"
   },
   "source": [
    "---\n",
    "\n",
    "## Introduction to the assignment\n",
    "\n",
    "As with the last assignment, you will be using the [Boston Housing Prices Data Set](https://archive.ics.uci.edu/ml/machine-learning-databases/housing/housing.names).\n",
    "\n",
    "The data has been loaded into a dataframe for you."
   ]
  },
  {
   "cell_type": "code",
   "execution_count": 1,
   "metadata": {
    "id": "t0_LwTzXjl7J",
    "jupyter": {
     "outputs_hidden": true
    }
   },
   "outputs": [],
   "source": [
    "import IPython\n",
    "import numpy as np\n",
    "import scipy as sp\n",
    "import pandas as pd\n",
    "import matplotlib\n",
    "import sklearn\n",
    "\n",
    "%matplotlib inline  \n",
    "import matplotlib.pyplot as plt  \n",
    "import statsmodels.api as sm\n",
    "from sklearn.linear_model import LinearRegression\n",
    "from sklearn.metrics import mean_squared_error\n",
    "import statsmodels.formula.api as smf\n"
   ]
  },
  {
   "cell_type": "code",
   "execution_count": 2,
   "metadata": {
    "id": "72miT9Zhjl7K",
    "jupyter": {
     "outputs_hidden": true
    }
   },
   "outputs": [
    {
     "data": {
      "text/html": [
       "<div>\n",
       "<style scoped>\n",
       "    .dataframe tbody tr th:only-of-type {\n",
       "        vertical-align: middle;\n",
       "    }\n",
       "\n",
       "    .dataframe tbody tr th {\n",
       "        vertical-align: top;\n",
       "    }\n",
       "\n",
       "    .dataframe thead th {\n",
       "        text-align: right;\n",
       "    }\n",
       "</style>\n",
       "<table border=\"1\" class=\"dataframe\">\n",
       "  <thead>\n",
       "    <tr style=\"text-align: right;\">\n",
       "      <th></th>\n",
       "      <th>CRIM</th>\n",
       "      <th>ZN</th>\n",
       "      <th>INDUS</th>\n",
       "      <th>CHAS</th>\n",
       "      <th>NOX</th>\n",
       "      <th>RM</th>\n",
       "      <th>AGE</th>\n",
       "      <th>DIS</th>\n",
       "      <th>RAD</th>\n",
       "      <th>TAX</th>\n",
       "      <th>PTRATIO</th>\n",
       "      <th>B</th>\n",
       "      <th>LSTAT</th>\n",
       "      <th>MEDV</th>\n",
       "    </tr>\n",
       "  </thead>\n",
       "  <tbody>\n",
       "    <tr>\n",
       "      <th>0</th>\n",
       "      <td>0.218960</td>\n",
       "      <td>18.0</td>\n",
       "      <td>2.629288</td>\n",
       "      <td>0.0</td>\n",
       "      <td>0.869420</td>\n",
       "      <td>6.875396</td>\n",
       "      <td>65.2</td>\n",
       "      <td>4.347275</td>\n",
       "      <td>1.0</td>\n",
       "      <td>307.0</td>\n",
       "      <td>15.534711</td>\n",
       "      <td>397.462329</td>\n",
       "      <td>5.715647</td>\n",
       "      <td>24.0</td>\n",
       "    </tr>\n",
       "    <tr>\n",
       "      <th>1</th>\n",
       "      <td>0.141576</td>\n",
       "      <td>0.0</td>\n",
       "      <td>7.315612</td>\n",
       "      <td>0.0</td>\n",
       "      <td>0.549711</td>\n",
       "      <td>6.499894</td>\n",
       "      <td>78.9</td>\n",
       "      <td>5.315684</td>\n",
       "      <td>2.0</td>\n",
       "      <td>255.0</td>\n",
       "      <td>17.914131</td>\n",
       "      <td>397.012611</td>\n",
       "      <td>9.338417</td>\n",
       "      <td>21.6</td>\n",
       "    </tr>\n",
       "    <tr>\n",
       "      <th>2</th>\n",
       "      <td>0.380457</td>\n",
       "      <td>0.0</td>\n",
       "      <td>7.340354</td>\n",
       "      <td>0.0</td>\n",
       "      <td>0.697928</td>\n",
       "      <td>7.263489</td>\n",
       "      <td>61.1</td>\n",
       "      <td>5.356935</td>\n",
       "      <td>2.0</td>\n",
       "      <td>243.0</td>\n",
       "      <td>17.919989</td>\n",
       "      <td>396.628236</td>\n",
       "      <td>4.142473</td>\n",
       "      <td>34.7</td>\n",
       "    </tr>\n",
       "    <tr>\n",
       "      <th>3</th>\n",
       "      <td>0.313563</td>\n",
       "      <td>0.0</td>\n",
       "      <td>2.562407</td>\n",
       "      <td>0.0</td>\n",
       "      <td>0.599629</td>\n",
       "      <td>7.209732</td>\n",
       "      <td>45.8</td>\n",
       "      <td>6.103983</td>\n",
       "      <td>3.0</td>\n",
       "      <td>226.0</td>\n",
       "      <td>18.979527</td>\n",
       "      <td>398.564784</td>\n",
       "      <td>3.239272</td>\n",
       "      <td>33.4</td>\n",
       "    </tr>\n",
       "    <tr>\n",
       "      <th>4</th>\n",
       "      <td>0.330105</td>\n",
       "      <td>0.0</td>\n",
       "      <td>2.497337</td>\n",
       "      <td>0.0</td>\n",
       "      <td>0.476077</td>\n",
       "      <td>7.184111</td>\n",
       "      <td>54.2</td>\n",
       "      <td>6.264372</td>\n",
       "      <td>3.0</td>\n",
       "      <td>234.0</td>\n",
       "      <td>18.708888</td>\n",
       "      <td>399.487766</td>\n",
       "      <td>6.115159</td>\n",
       "      <td>36.2</td>\n",
       "    </tr>\n",
       "  </tbody>\n",
       "</table>\n",
       "</div>"
      ],
      "text/plain": [
       "       CRIM    ZN     INDUS  CHAS       NOX        RM   AGE       DIS  RAD  \\\n",
       "0  0.218960  18.0  2.629288   0.0  0.869420  6.875396  65.2  4.347275  1.0   \n",
       "1  0.141576   0.0  7.315612   0.0  0.549711  6.499894  78.9  5.315684  2.0   \n",
       "2  0.380457   0.0  7.340354   0.0  0.697928  7.263489  61.1  5.356935  2.0   \n",
       "3  0.313563   0.0  2.562407   0.0  0.599629  7.209732  45.8  6.103983  3.0   \n",
       "4  0.330105   0.0  2.497337   0.0  0.476077  7.184111  54.2  6.264372  3.0   \n",
       "\n",
       "     TAX    PTRATIO           B     LSTAT  MEDV  \n",
       "0  307.0  15.534711  397.462329  5.715647  24.0  \n",
       "1  255.0  17.914131  397.012611  9.338417  21.6  \n",
       "2  243.0  17.919989  396.628236  4.142473  34.7  \n",
       "3  226.0  18.979527  398.564784  3.239272  33.4  \n",
       "4  234.0  18.708888  399.487766  6.115159  36.2  "
      ]
     },
     "execution_count": 2,
     "metadata": {},
     "output_type": "execute_result"
    }
   ],
   "source": [
    "# Load data\n",
    "data = np.loadtxt('data-2.txt')\n",
    "target = np.loadtxt('MEDV.txt')\n",
    "\n",
    "# Creating dataframe for dataset with both inputs and target\n",
    "bdata = pd.DataFrame(data)\n",
    "\n",
    "#labeling columns\n",
    "bdata.columns = ['CRIM', 'ZN', 'INDUS', 'CHAS', 'NOX','RM','AGE','DIS','RAD','TAX','PTRATIO','B','LSTAT']\n",
    "bdata['MEDV'] = target\n",
    "\n",
    "bdata.head()"
   ]
  },
  {
   "cell_type": "markdown",
   "metadata": {
    "id": "2cbXmKF9jl7L"
   },
   "source": [
    "---\n",
    "\n",
    "## Part 1: Getting oriented\n",
    "\n",
    "\n",
    "### 1.1 Use existing libraries\n",
    "\n",
    "Soon, you will write your own gradient descent algorithm, which you will then use to minimize the squared error cost function.  First, however, let's use the canned versions that come with Python, to make sure we understand what we're aiming to achieve.\n",
    "\n",
    "Using the same Boston housing prices dataset, use the [Linear Regression class](http://scikit-learn.org/stable/modules/generated/sklearn.linear_model.LinearRegression.html) from sklearn or the [OLS class](http://wiki.scipy.org/Cookbook/OLS) from SciPy to explore the relationship between median housing price and number of rooms per house. Do the following:\n",
    "\n",
    "(a) Regress the housing price on the number of rooms per house. Draw a scatter plot of housing price (y-axis) against rooms (x-axis), and draw the regression line in blue.  You might want to make the dots semi-transparent if it improves the presentation of the figure. \n",
    "\n",
    "(b) Regress the housing price on the number of rooms per house and the (number of rooms per house) squared.  Show the (curved) regression line in green. \n",
    "\n",
    "(c) Interpret your results."
   ]
  },
  {
   "cell_type": "code",
   "execution_count": 3,
   "metadata": {
    "id": "hxCNK0pTjl7L",
    "jupyter": {
     "outputs_hidden": true
    }
   },
   "outputs": [
    {
     "name": "stdout",
     "output_type": "stream",
     "text": [
      "First model results:\n",
      "const   -35.576207\n",
      "RM        8.959927\n",
      "dtype: float64\n",
      "const   -12.944208\n",
      "RM       21.267281\n",
      "dtype: float64\n",
      "Model R-squared: 0.47296720426573646\n",
      "---------------------\n",
      "Second model results:\n",
      "const    71.736328\n",
      "RM      -23.789603\n",
      "RM2       2.469145\n",
      "dtype: float64\n",
      "const    5.575897\n",
      "RM      -6.151721\n",
      "RM2      8.513017\n",
      "dtype: float64\n",
      "Model R-squared: 0.5393385900930773\n",
      "---------------------\n"
     ]
    },
    {
     "data": {
      "image/png": "[encoded data removed]",
      "text/plain": [
       "<Figure size 432x288 with 1 Axes>"
      ]
     },
     "metadata": {
      "needs_background": "light"
     },
     "output_type": "display_data"
    }
   ],
   "source": [
    "# Your code here\n",
    "\n",
    "# Creating design and outcome matrices\n",
    "X = bdata['RM'].copy()\n",
    "y = bdata['MEDV'].copy()\n",
    "X = sm.add_constant(X)\n",
    "\n",
    "# Fitting first linear regression model \n",
    "model = sm.OLS(y,X)\n",
    "results = model.fit()\n",
    "print(\"First model results:\")\n",
    "print(results.params)\n",
    "print(results.tvalues)\n",
    "print(\"Model R-squared: {}\".format(results.rsquared))\n",
    "print(\"---------------------\")\n",
    "\n",
    "# Creating plot\n",
    "plt.scatter(X['RM'], y, c='r', alpha=0.25)\n",
    "plt.xlabel(\"Number of rooms\")\n",
    "plt.ylabel(\"Median home value\")\n",
    "plt.title(\"Scatter plot of linear regression\")\n",
    "\n",
    "# Plotting first regression line\n",
    "x = np.arange(X['RM'].min(), X['RM'].max(), step=0.1)\n",
    "y_value = results.params.const + results.params.RM*x\n",
    "plt.plot(x, y_value, 'b', linestyle='-', linewidth=2)\n",
    "plt.ylim(bottom=y.min()-2, top=y.max()+2)\n",
    "plt.xlim(left=X['RM'].min()-0.1, right=X['RM'].max()+.1)\n",
    "\n",
    "# Fitting the second linear regression model\n",
    "X = bdata['RM'].copy().to_frame()\n",
    "X['RM2'] = X['RM']**2\n",
    "X = sm.add_constant(X)\n",
    "y = bdata['MEDV'].copy()\n",
    "model = sm.OLS(y,X)\n",
    "results = model.fit()\n",
    "print(\"Second model results:\")\n",
    "print(results.params)\n",
    "print(results.tvalues)\n",
    "print(\"Model R-squared: {}\".format(results.rsquared))\n",
    "print(\"---------------------\")\n",
    "\n",
    "# Plotting second regression line\n",
    "x = np.arange(X['RM'].min(), X['RM'].max(), step=0.1)\n",
    "y_value = results.params.const + results.params.RM*x + results.params.RM2*x**2\n",
    "plt.plot(x, y_value, 'g', linestyle='-', linewidth=2)\n",
    "plt.show()"
   ]
  },
  {
   "cell_type": "markdown",
   "metadata": {
    "id": "bjxD1XjXjl7M"
   },
   "source": [
    "*The first linear model using just the number of rooms to predict median home value runs fairly well through much of our data, and the model has an R-squared of ~0.473. However, there are definitely data points that it isn't able to take into account that the second model does due to adding the rooms squared term. This causes our R-squared score to increase to ~0.539. Since R-squared is a measure of how much variation in Y is explained by our model, an increase is generally a good thing (it can mean you are overfitting the data, although I doubt that's an issue here).*\n",
    "\n",
    "*The t-values for all coefficients in both models are very large (the smallest is the coefficient on the intercept in model 2, and that's still 5.575), which means that it is unlikely we are observing a difference by pure chance. This gives us confidence in the strength of both models (although we would want to investigate further, as we did in problem set 1).*"
   ]
  },
  {
   "cell_type": "markdown",
   "metadata": {
    "id": "hkO8pHRvjl7N"
   },
   "source": [
    "### 1.2 Training and testing\n",
    "\n",
    "Chances are, for the above problem you used all of your data to fit the regression line. In some circumstances this is a reasonable thing to do, but often this will result in overfitting. Let's redo the above results the ML way, using careful cross-validation.  Since you are now experts in cross-validation, and have written your own cross-validation algorithm from scratch, you can now take a shortcut and use the libraries that others have built for you.\n",
    "\n",
    "Using the [cross-validation functions](http://scikit-learn.org/stable/modules/cross_validation.html) from scikit-learn, use 5-fold cross-validation to fit the regression model (a) from 1.1, i.e. the linear fit of housing price on number of rooms per house. Each fold of cross-validation will give you one slope coefficient and one intercept coefficient.  Create a new scatterplot of housing price against rooms, and draw the five different regression lines in light blue, and the original regression line from 1.1 in red (which was estimated using the full dataset). What do you notice?"
   ]
  },
  {
   "cell_type": "code",
   "execution_count": 4,
   "metadata": {
    "id": "gnVo_0TDjl7O",
    "jupyter": {
     "outputs_hidden": true
    }
   },
   "outputs": [
    {
     "name": "stdout",
     "output_type": "stream",
     "text": [
      "Fold0:\n",
      "1 model results:\n",
      "const   -35.121653\n",
      "RM        8.881495\n",
      "dtype: float64\n",
      "const   -11.103364\n",
      "RM       18.358232\n",
      "dtype: float64\n",
      "Model R-squared: 0.45603981469703225\n",
      "---------------------\n",
      "Fold1:\n",
      "2 model results:\n",
      "const   -31.621343\n",
      "RM        8.281384\n",
      "dtype: float64\n",
      "const    -9.896755\n",
      "RM       16.900009\n",
      "dtype: float64\n",
      "Model R-squared: 0.4147633445688542\n",
      "---------------------\n",
      "Fold2:\n",
      "3 model results:\n",
      "const   -25.723134\n",
      "RM        7.292676\n",
      "dtype: float64\n",
      "const    -7.472228\n",
      "RM       13.566048\n",
      "dtype: float64\n",
      "Model R-squared: 0.3135023064942998\n",
      "---------------------\n",
      "Fold3:\n",
      "4 model results:\n",
      "const   -46.014572\n",
      "RM       10.562164\n",
      "dtype: float64\n",
      "const   -17.207709\n",
      "RM       26.004773\n",
      "dtype: float64\n",
      "Model R-squared: 0.6265919207655093\n",
      "---------------------\n",
      "Fold4:\n",
      "5 model results:\n",
      "const   -36.544554\n",
      "RM        9.294240\n",
      "dtype: float64\n",
      "const   -13.224449\n",
      "RM       22.098928\n",
      "dtype: float64\n",
      "Model R-squared: 0.5478832256464541\n",
      "---------------------\n"
     ]
    },
    {
     "data": {
      "text/plain": [
       "(3.528760242212798, 9.13073518404732)"
      ]
     },
     "execution_count": 4,
     "metadata": {},
     "output_type": "execute_result"
    },
    {
     "data": {
      "image/png": "[encoded data removed]",
      "text/plain": [
       "<Figure size 432x288 with 1 Axes>"
      ]
     },
     "metadata": {
      "needs_background": "light"
     },
     "output_type": "display_data"
    }
   ],
   "source": [
    "# from sklearn.cross_validation import KFold\n",
    "from sklearn.model_selection import KFold\n",
    "\n",
    "# your code here\n",
    "X = bdata['RM'].copy()\n",
    "y = bdata['MEDV'].copy()\n",
    "X = sm.add_constant(X)\n",
    "kf = KFold(n_splits=5)\n",
    "kf.get_n_splits(X)\n",
    "results_array = []\n",
    "for i, (train_index, test_index) in enumerate(kf.split(X)):\n",
    "    print(f\"Fold{i}:\")\n",
    "    model = sm.OLS(y.loc[train_index],X.loc[train_index])\n",
    "    results = model.fit()\n",
    "    print(\"{} model results:\".format(i+1))\n",
    "    print(results.params)\n",
    "    results_array.append(results.params)\n",
    "    print(results.tvalues)\n",
    "    print(\"Model R-squared: {}\".format(results.rsquared))\n",
    "    print(\"---------------------\")\n",
    "    \n",
    "\n",
    "# Fitting the non-cross-validated model\n",
    "model = sm.OLS(y,X)\n",
    "results = model.fit()\n",
    "\n",
    "# Creating plot\n",
    "plt.scatter(X['RM'], y, c='g', alpha=0.25)\n",
    "plt.xlabel(\"Number of rooms\")\n",
    "plt.ylabel(\"Median home value\")\n",
    "plt.title(\"Scatter plot of linear regression\")\n",
    "\n",
    "# Plotting the cross-validated regression lines\n",
    "for i in range(len(results_array)):\n",
    "    curr_results = results_array[i]\n",
    "    y_value = curr_results.const + curr_results.RM*x\n",
    "    plt.plot(x, y_value, 'b', linestyle='-', linewidth=2);\n",
    "    \n",
    "# Plotting first regression line after the cross-validated lines so it is visible\n",
    "x = np.arange(X['RM'].min(), X['RM'].max(), step=0.1)\n",
    "y_value = results.params.const + results.params.RM*x\n",
    "plt.plot(x, y_value, 'r', linestyle='-', linewidth=2)\n",
    "plt.ylim(bottom=y.min()-2, top=y.max()+2)\n",
    "plt.xlim(left=X['RM'].min()-0.1, right=X['RM'].max()+.1)"
   ]
  },
  {
   "cell_type": "markdown",
   "metadata": {
    "id": "a9CI66kKjl7O"
   },
   "source": [
    "*Looking at the model results from cross-validation, it's interesting that some of the models were much better than others, due to the random splits of the data they had. The highest R-squared score was ~0.6266, which is higher than the R-squared from the second model where we included rooms squared. Because of these differences, the five lines have different slopes and coefficients than our model using all of the data (although one cross-validated model is rather close to the original model). Furthermore, the slopes seem to be rather equally distributed around our initial model slope. To me, this adds strength to our inital results by accounting for potential random variation in data and can help when our model encounters new data.*"
   ]
  },
  {
   "cell_type": "markdown",
   "metadata": {
    "id": "cblgmgiBjl7P"
   },
   "source": [
    "## Part 2: Gradient descent: Linear Regression\n",
    "\n",
    "This is where it gets fun!\n",
    "\n",
    "### 2.1 Implement gradient descent with one independent variable (average rooms per house)\n",
    "\n",
    "Implement the batch gradient descent algorithm that we discussed in class. Use the version you implement to regress the housing price on the number of rooms per house. Experiment with 3-4 different values of the learning rate *R*, and do the following:\n",
    "\n",
    "* Report the values of alpha and beta that minimize the loss function\n",
    "* Report the number of iterations it takes for your algorithm to converge (for each value of *R*)\n",
    "* Report the total running time of your algorithm, in seconds\n",
    "* How do your coefficients compare to the ones estimated through standard libraries? Does this depend on *R*?\n",
    "\n",
    "Some skeleton code is provided below, but you should feel free to delete this code and start from scratch if you prefer.\n",
    "\n",
    "* *Hint 1: Don't forget to implement a stopping condition, so that at every iteration you check whether your results have converged. Common approaches to this are to (a) check to see if the loss has stopped decreasing; and (b) check if both your current parameter esimates are close to the estimates from the previous iteration.  In both cases, \"close\" should not be ==0, it should be <=epsilon, where epsilon is something very small (like 0.0001).*\n",
    "* *Hint 2: Some people like to include a MaxIterations parameter in their gradient descent algorithm, to prevent divergence. *\n",
    "* *Hint 3: To test the parameters estimated by your implementation of GD, compare the results with that of `sklearn.linear_model.LinearRegression()`*"
   ]
  },
  {
   "cell_type": "code",
   "execution_count": 5,
   "metadata": {
    "id": "yAfAQ5EQjl7Q",
    "jupyter": {
     "outputs_hidden": true
    }
   },
   "outputs": [
    {
     "name": "stdout",
     "output_type": "stream",
     "text": [
      "Cost converges after 37034 times\n",
      "Time taken: 19.17 seconds\n",
      "Cost converges after 20049 times\n",
      "Time taken: 10.50 seconds\n",
      "Time taken: 52.74 seconds\n",
      "Cost converges after 1373 times\n",
      "Time taken: 0.70 seconds\n",
      "Cost converges after 13715 times\n",
      "Time taken: 7.08 seconds\n",
      "Learning Rate: 0.01, Intercept: -35.56863421334029, Coefficient: 8.95877290656635\n",
      "Learning Rate: 0.02, Intercept: -35.57242148069403, Coefficient: 8.959350202195248\n",
      "Learning Rate: 0.001, Intercept: -31.854664151018863, Coefficient: 8.39265003152886\n",
      "Learning Rate: 0.0001, Intercept: 1.408391608988382, Coefficient: 3.322323555424765\n",
      "Learning Rate: 1e-05, Intercept: 1.132912121329947, Coefficient: 3.3643118785889556\n",
      "[-35.57620687] [[8.95992721]]\n"
     ]
    }
   ],
   "source": [
    "import time\n",
    "\n",
    "\"\"\"\n",
    "Function\n",
    "--------\n",
    "bivariate_ols\n",
    "    Gradient Decent to minimize OLS. Used to find co-efficients of bivariate OLS Linear regression\n",
    "\n",
    "Parameters\n",
    "----------\n",
    "xvalues, yvalues : narray\n",
    "    xvalues: independent variable\n",
    "    yvalues: dependent variable\n",
    "    \n",
    "R: float\n",
    "    Learning rate\n",
    "    \n",
    "MaxIterations: Int\n",
    "    maximum number of iterations\n",
    "    \n",
    "\n",
    "Returns\n",
    "-------\n",
    "alpha: float\n",
    "    intercept\n",
    "    \n",
    "beta: float\n",
    "    co-efficient\n",
    "\"\"\"\n",
    "\n",
    "def bivariate_ols(xvalues, yvalues, R=0.01, MaxIterations=1000, epsilon=0.00001):\n",
    "    # initialize the parameters - I'm initializing randomly rather than starting at an arbitrary point\n",
    "    alpha = np.random.randn()\n",
    "    beta = np.random.randn()\n",
    "    parameters = np.array([alpha, beta]).reshape(-1,1)\n",
    "    # Defining lists to keep track of termination criteria\n",
    "    start_time = time.time()\n",
    "    X = xvalues.copy().to_frame()\n",
    "    y = yvalues.copy()\n",
    "    y_new = np.reshape(np.array(y), (len(y), 1))\n",
    "    X.insert(0, 'Intercept', 1)\n",
    "    \n",
    "    cost_array = []\n",
    "    for i in range(MaxIterations):\n",
    "        gradients = 2 * np.dot(X.T, np.dot(X, parameters) - y_new) / X.shape[0]\n",
    "        parameters = parameters - R*gradients\n",
    "        curr_loss = np.sum(np.dot(X, parameters) - y_new)\n",
    "        # Implementing stopping condition - cost going below our epsilon value\n",
    "        if i>0 and np.abs(cost_array[-1] - curr_loss) < epsilon:\n",
    "            print('Cost converges after {} times'.format(i))\n",
    "            break\n",
    "        cost_array.append(curr_loss)\n",
    "    alpha = parameters[0][0]\n",
    "    beta = [parameters[i+1][0] for i in range(len(parameters)-1)]\n",
    "    \n",
    "    print(\"Time taken: {:.2f} seconds\".format(time.time() - start_time))\n",
    "    return alpha, beta\n",
    "\n",
    "# example function call\n",
    "X = bdata['RM'].copy()\n",
    "y = bdata['MEDV'].copy()\n",
    "results = []\n",
    "learning_rate_grid = [0.01, 0.02, 0.001, 0.0001, 0.00001]\n",
    "for learning_rate in learning_rate_grid:  \n",
    "    results.append(bivariate_ols(X, y, learning_rate, 100000))\n",
    "    \n",
    "for result, learning_rate in zip(results, learning_rate_grid):\n",
    "    # Note: We only care about result[1][0] for now because we know it's bivariate regression\n",
    "    print(\"Learning Rate: {}, Intercept: {}, Coefficient: {}\".format(learning_rate, result[0], result[1][0]))\n",
    "    \n",
    "    \n",
    "# # Results from sklearn\n",
    "reg = sklearn.linear_model.LinearRegression().fit(np.asarray(X).reshape(-1,1), np.asarray(y).reshape(-1,1))\n",
    "print(reg.intercept_, reg.coef_)"
   ]
  },
  {
   "cell_type": "markdown",
   "metadata": {
    "id": "S7dK9bMZjl7Q"
   },
   "source": [
    "*The alpha and beta that minimize my loss function are alpha: -35.5724 and beta: 8.95935 (for a learning rate of 0.02).*\n",
    "\n",
    "*It takes my algorithm 20104 iterations to converge for R=0.02, 37253 iterations to converge for R=0.01, the algorithm doesn't converge for R=0.001, it converges after 1444 iterations for R=0.0001, and 13817 iterations for R=0.00001. For the latter two, it seems like the algorithm is converging \"quickly\" because the learning rate is less than my default epsilon termination criteria. I tried using the smallest learning rate for the termination criteria, but that made the algorithm take far longer to run and didn't improve performance.*\n",
    "\n",
    "*The algorithm takes ~20.99 seconds to run for R=0.01, ~11.56 seconds for R=0.02, and 54.24 seconds for R=0.001. For the other learning rates, they're encountering the termination criteria quickly, so it takes between 0-7 seconds to terminate.*\n",
    "\n",
    "*The coefficient for R=0.02 is closest to the one from sklearn. Sklearn's coefficients are alpha: -35.576 and beta: 8.9599. My coefficents for R=0.01 are alpha: -35.5686, and beta: 8.9587. The coefficients for R=0.001 are alpha: -31.895 and beta: 8.8988. This indicates that our learning rate may be too small starting with R=0.001, because after 100000 iterations, it still hasn't converged.*"
   ]
  },
  {
   "cell_type": "markdown",
   "metadata": {
    "id": "jZqg5yW3jl7Q"
   },
   "source": [
    "### 2.2 Data normalization (done for you!)\n",
    "\n",
    "Soon, you will implement a version of gradient descent that can use an arbitrary number of independent variables. Before doing this, we want to give you some code in case you want to standardize your features."
   ]
  },
  {
   "cell_type": "code",
   "execution_count": 6,
   "metadata": {
    "id": "lU9-kG3Tjl7Q",
    "jupyter": {
     "outputs_hidden": true
    }
   },
   "outputs": [],
   "source": [
    "def standardize(raw_data):\n",
    "    return ((raw_data - np.mean(raw_data, axis = 0)) / np.std(raw_data, axis = 0))"
   ]
  },
  {
   "cell_type": "markdown",
   "metadata": {
    "id": "vUUackd0jl7R"
   },
   "source": [
    "### 2.3 Implement gradient descent with an arbitrary number of independent variables\n",
    "\n",
    "Now that you have a simple version of gradient descent working, create a version of gradient descent that can take more than one independent variable.  Assume all independent variables will be continuous.  Test your algorithm using TAX and RM as independent variables. Standardize these variables before inputting them to the gradient descent algorithm. \n",
    "\n",
    "As before,  report and interpret your estimated coefficients, the number of iterations before convergence, and the total running time of your algorithm. Experiment with 2-3 different values of R.\n",
    "\n",
    "* *Hint 1: Be careful to implement this efficiently, otherwise it might take a long time for your code to run. Commands like `np.dot` can be a good friend to you on this problem*\n",
    "\n",
    "* *Hint 2: To test the parameters estimated by your implementation of GD, compare the results with that of `sklearn.linear_model.LinearRegression()`*"
   ]
  },
  {
   "cell_type": "code",
   "execution_count": 7,
   "metadata": {
    "id": "yhEcthNtjl7R",
    "jupyter": {
     "outputs_hidden": true
    }
   },
   "outputs": [
    {
     "name": "stdout",
     "output_type": "stream",
     "text": [
      "37.69463212750221\n",
      "37.69463212760162\n",
      "9.941203416019562e-11\n",
      "Cost converges after iteration times: 715\n",
      "Time taken: 0.37 seconds\n",
      "-------------------------------------------------\n",
      "37.69463212576174\n",
      "37.694632125859044\n",
      "9.730172223498812e-11\n",
      "Cost converges after iteration times: 368\n",
      "Time taken: 0.20 seconds\n",
      "-------------------------------------------------\n",
      "37.69463215892661\n",
      "37.69463215902654\n",
      "9.993073035730049e-11\n",
      "Cost converges after iteration times: 6924\n",
      "Time taken: 3.59 seconds\n",
      "-------------------------------------------------\n",
      "37.694632466743194\n",
      "37.694632466843174\n",
      "9.99804683488037e-11\n",
      "Cost converges after iteration times: 60047\n",
      "Time taken: 31.31 seconds\n",
      "-------------------------------------------------\n",
      "Learning Rate: 0.01, Intercept: 22.53279480137108, Coefficient: [-2.7214055741881493, 5.538693490978714]\n",
      "-------------------------------------------------\n",
      "Learning Rate: 0.02, Intercept: 22.532799725732243, Coefficient: [-2.721391250878809, 5.538707853060296]\n",
      "-------------------------------------------------\n",
      "Learning Rate: 0.001, Intercept: 22.532785842433505, Coefficient: [-2.7215131974629676, 5.538585777020174]\n",
      "-------------------------------------------------\n",
      "Learning Rate: 0.0001, Intercept: 22.53266778750677, Coefficient: [-2.72183349016583, 5.538264226354098]\n",
      "-------------------------------------------------\n",
      "Sklearn Linear Regression Results:\n",
      "22.53280632411069 [-2.72135809  5.53874104]\n"
     ]
    }
   ],
   "source": [
    "np.random.seed(1443)\n",
    "\"\"\"\n",
    "Function\n",
    "--------\n",
    "multivariate_ols\n",
    "    Gradient Decent to minimize OLS. Used to find co-efficients of bivariate OLS Linear regression\n",
    "\n",
    "Parameters\n",
    "----------\n",
    "xvalue_matrix, yvalues : narray\n",
    "    xvalue_matrix: independent variable\n",
    "    yvalues: dependent variable\n",
    "    \n",
    "R: float\n",
    "    Learning rate\n",
    "    \n",
    "MaxIterations: Int\n",
    "    maximum number of iterations\n",
    "    \n",
    "\n",
    "Returns\n",
    "-------\n",
    "alpha: float\n",
    "    intercept\n",
    "    \n",
    "beta_array: array[float]\n",
    "    co-efficient\n",
    "\"\"\"\n",
    "\n",
    "def multivariate_ols(xvalue_matrix, yvalues, R=0.01, MaxIterations=10000, epsilon=1e-10, add_intercept=True):\n",
    "    # your code here\n",
    "    start_time = time.time()\n",
    "    X = xvalue_matrix\n",
    "    y = yvalues\n",
    "    y_new = np.reshape(np.array(y), (len(y), 1))\n",
    "    alpha = np.random.randn()\n",
    "    alpha_array = []\n",
    "    beta = np.random.randn(X.shape[1])\n",
    "    beta_array = []\n",
    "    parameters = np.array([alpha, *beta]).reshape(-1,1)\n",
    "    parameters_array = [parameters]\n",
    "    if add_intercept:  \n",
    "        X.insert(0, 'Intercept', 1)\n",
    "    cost_array = []\n",
    "    for i in range(MaxIterations):\n",
    "        # np.dot(X, parameters) - y_new == sum(alpha + b1x1 + b2x2 - y)\n",
    "        # np.dot(X.T, the dot product above) == multiplying the summation by all independent variable vectors\n",
    "        gradients = 2 * np.dot(X.T, np.dot(X, parameters) - y_new) / X.shape[0]\n",
    "        parameters = parameters - R*gradients\n",
    "        parameters_array.append(parameters)\n",
    "        curr_loss = np.sum((np.dot(X, parameters) - y_new)**2) / X.shape[0]\n",
    "        # Stopping condition\n",
    "        if i>0 and np.abs(curr_loss - cost_array[-1]) < 1e-10:\n",
    "            print(curr_loss)\n",
    "            print(cost_array[-1])\n",
    "            print(cost_array[-1] - curr_loss)\n",
    "            print('Cost converges after iteration times: {}'.format(i))\n",
    "            break\n",
    "        cost_array.append(curr_loss)\n",
    "    alpha = parameters[0][0]\n",
    "    beta_array = [parameters[i+1][0] for i in range(len(parameters)-1)]\n",
    "    print(\"Time taken: {:.2f} seconds\".format(time.time() - start_time))\n",
    "    return alpha, beta_array\n",
    "\n",
    "X = standardize(bdata[['TAX','RM']].copy())\n",
    "y = standardize(bdata['MEDV'].copy())\n",
    "results = []\n",
    "learning_rate_grid = [0.01, 0.02, 0.001, 0.0001]\n",
    "for learning_rate in learning_rate_grid:  \n",
    "    X = standardize(bdata[['TAX','RM']].copy())\n",
    "    y = bdata['MEDV'].copy()\n",
    "    results.append(multivariate_ols(X, y, learning_rate, 100000))\n",
    "    print(\"-------------------------------------------------\")\n",
    "    \n",
    "for result, learning_rate in zip(results, learning_rate_grid):\n",
    "    print(\"Learning Rate: {}, Intercept: {}, Coefficient: {}\".format(learning_rate, result[0], result[1]))\n",
    "    print(\"-------------------------------------------------\")\n",
    "\n",
    "X = standardize(bdata[['TAX','RM']].copy())\n",
    "y = bdata['MEDV'].copy()\n",
    "reg = sklearn.linear_model.LinearRegression().fit(X,y)\n",
    "print(\"Sklearn Linear Regression Results:\")\n",
    "print(reg.intercept_, reg.coef_)"
   ]
  },
  {
   "cell_type": "markdown",
   "metadata": {
    "id": "E2o_SDdcjl7R"
   },
   "source": [
    "*The coefficients that minimize the cost function are similar for R=0.01, 0.02, 0.001, and 0.0001. The alpha values are very close to 22.5326. The beta values are all generally around -2.721 and 5.5382, with some differences in decimals after that.*\n",
    "\n",
    "*Convergence occured at 715 iterations for R=0.01, 368 for R=0.02, 6924 for R=0.001, and 60047 iterations for R=0.0001. At shortest, the algorithm took 0.2 seconds to run for R=0.02. At longest, it took 30.96 seconds for R=0.0001.*"
   ]
  },
  {
   "cell_type": "markdown",
   "metadata": {
    "id": "dMXw_qcYjl7S"
   },
   "source": [
    "### 2.4 Compare standardized vs. non-standardized results\n",
    "\n",
    "Repeat the analysis from 2.3, but this time do not standardize your variables - i.e., use the original data. Use the same three values of R (0.1, 0.01, and 0.001). What do you notice about the running time and convergence properties of your algorithm?"
   ]
  },
  {
   "cell_type": "code",
   "execution_count": 8,
   "metadata": {
    "id": "AnEvJxxhjl7S",
    "jupyter": {
     "outputs_hidden": true
    }
   },
   "outputs": [
    {
     "name": "stderr",
     "output_type": "stream",
     "text": [
      "/var/folders/5w/82q2gcks59d3npvwjk0xmsm80000gn/T/ipykernel_1492/2776048841.py:51: RuntimeWarning: overflow encountered in square\n",
      "  curr_loss = np.sum((np.dot(X, parameters) - y_new)**2) / X.shape[0]\n",
      "/var/folders/5w/82q2gcks59d3npvwjk0xmsm80000gn/T/ipykernel_1492/2776048841.py:57: RuntimeWarning: invalid value encountered in double_scalars\n",
      "  if i>0 and np.abs(curr_loss - cost_array[-1]) < 1e-10:\n",
      "/var/folders/5w/82q2gcks59d3npvwjk0xmsm80000gn/T/ipykernel_1492/2776048841.py:49: RuntimeWarning: invalid value encountered in subtract\n",
      "  parameters = parameters - R*gradients\n"
     ]
    },
    {
     "name": "stdout",
     "output_type": "stream",
     "text": [
      "Time taken: 5.35 seconds\n"
     ]
    },
    {
     "name": "stderr",
     "output_type": "stream",
     "text": [
      "/Users/jaredschober/opt/anaconda3/lib/python3.9/site-packages/numpy/core/fromnumeric.py:86: RuntimeWarning: overflow encountered in reduce\n",
      "  return ufunc.reduce(obj, axis, dtype, out, **passkwargs)\n",
      "/var/folders/5w/82q2gcks59d3npvwjk0xmsm80000gn/T/ipykernel_1492/2776048841.py:51: RuntimeWarning: overflow encountered in square\n",
      "  curr_loss = np.sum((np.dot(X, parameters) - y_new)**2) / X.shape[0]\n",
      "/var/folders/5w/82q2gcks59d3npvwjk0xmsm80000gn/T/ipykernel_1492/2776048841.py:57: RuntimeWarning: invalid value encountered in double_scalars\n",
      "  if i>0 and np.abs(curr_loss - cost_array[-1]) < 1e-10:\n",
      "/var/folders/5w/82q2gcks59d3npvwjk0xmsm80000gn/T/ipykernel_1492/2776048841.py:49: RuntimeWarning: invalid value encountered in subtract\n",
      "  parameters = parameters - R*gradients\n"
     ]
    },
    {
     "name": "stdout",
     "output_type": "stream",
     "text": [
      "Time taken: 5.13 seconds\n"
     ]
    },
    {
     "name": "stderr",
     "output_type": "stream",
     "text": [
      "/Users/jaredschober/opt/anaconda3/lib/python3.9/site-packages/numpy/core/fromnumeric.py:86: RuntimeWarning: overflow encountered in reduce\n",
      "  return ufunc.reduce(obj, axis, dtype, out, **passkwargs)\n",
      "/var/folders/5w/82q2gcks59d3npvwjk0xmsm80000gn/T/ipykernel_1492/2776048841.py:51: RuntimeWarning: overflow encountered in square\n",
      "  curr_loss = np.sum((np.dot(X, parameters) - y_new)**2) / X.shape[0]\n",
      "/var/folders/5w/82q2gcks59d3npvwjk0xmsm80000gn/T/ipykernel_1492/2776048841.py:57: RuntimeWarning: invalid value encountered in double_scalars\n",
      "  if i>0 and np.abs(curr_loss - cost_array[-1]) < 1e-10:\n",
      "/var/folders/5w/82q2gcks59d3npvwjk0xmsm80000gn/T/ipykernel_1492/2776048841.py:48: RuntimeWarning: overflow encountered in multiply\n",
      "  gradients = 2 * np.dot(X.T, np.dot(X, parameters) - y_new) / X.shape[0]\n",
      "/var/folders/5w/82q2gcks59d3npvwjk0xmsm80000gn/T/ipykernel_1492/2776048841.py:49: RuntimeWarning: invalid value encountered in subtract\n",
      "  parameters = parameters - R*gradients\n"
     ]
    },
    {
     "name": "stdout",
     "output_type": "stream",
     "text": [
      "Time taken: 5.16 seconds\n",
      "Learning Rate: 0.1, Intercept: nan, Coefficient: [nan, nan]\n",
      "Learning Rate: 0.01, Intercept: nan, Coefficient: [nan, nan]\n",
      "Learning Rate: 0.001, Intercept: nan, Coefficient: [nan, nan]\n"
     ]
    }
   ],
   "source": [
    "# Your code here\n",
    "results = []\n",
    "learning_rate_grid = [0.1, 0.01, 0.001]\n",
    "for learning_rate in learning_rate_grid:  \n",
    "    X = bdata[['TAX','RM']].copy()\n",
    "    y = bdata['MEDV'].copy()\n",
    "    results.append(multivariate_ols(X, y, learning_rate, 10000))\n",
    "    \n",
    "for result, learning_rate in zip(results, learning_rate_grid):\n",
    "    print(\"Learning Rate: {}, Intercept: {}, Coefficient: {}\".format(learning_rate, result[0], result[1]))"
   ]
  },
  {
   "cell_type": "markdown",
   "metadata": {
    "id": "BFdApjEsjl7S"
   },
   "source": [
    "*Using non-standardized data for multivariate gradient descent causes the algorithm to diverge. I end up with nan (or infinity) coefficients, and it never hits the stopping condition (because that's looking at when the change gets too small). This is likely because without standardizing the data, each parameter has a different scale, so each step affects the variables differently.*"
   ]
  },
  {
   "cell_type": "markdown",
   "metadata": {
    "id": "5pEk2_UZjl7S"
   },
   "source": [
    "## 3. Prediction\n",
    "\n",
    "Let's use our fitted model to make predictions about housing prices. Make sure to first standardize your features before proceeding.\n",
    "\n",
    "### 3.1 Cross-Validation\n",
    "\n",
    "Unless you were careful above, you probably overfit your data again. Let's fix that. Use 5-fold cross-validation to re-fit the multivariate regression from 2.3 above, and report your estimated coefficients (there should be three, corresponding to the intercept and the two coefficients for TAX and RM). Since there are 5 folds, there will be 5 sets of three coefficients -- report them all in a 5x3 table."
   ]
  },
  {
   "cell_type": "code",
   "execution_count": 9,
   "metadata": {
    "id": "DGQRERuIjl7T",
    "jupyter": {
     "outputs_hidden": true
    }
   },
   "outputs": [
    {
     "name": "stdout",
     "output_type": "stream",
     "text": [
      "35.202753610819634\n",
      "35.20275361091764\n",
      "9.800515954339062e-11\n",
      "Cost converges after iteration times: 753\n",
      "Time taken: 0.41 seconds\n",
      "37.490613985895344\n",
      "37.490613985994614\n",
      "9.92699256130436e-11\n",
      "Cost converges after iteration times: 763\n",
      "Time taken: 0.39 seconds\n",
      "36.496829657950194\n",
      "36.49682965804789\n",
      "9.769962616701378e-11\n",
      "Cost converges after iteration times: 646\n",
      "Time taken: 0.34 seconds\n",
      "42.20058718614216\n",
      "42.20058718624115\n",
      "9.899281394609716e-11\n",
      "Cost converges after iteration times: 702\n",
      "Time taken: 0.37 seconds\n",
      "36.9225184850513\n",
      "36.92251848514862\n",
      "9.732303851706092e-11\n",
      "Cost converges after iteration times: 695\n",
      "Time taken: 0.36 seconds\n"
     ]
    },
    {
     "data": {
      "text/html": [
       "<div>\n",
       "<style scoped>\n",
       "    .dataframe tbody tr th:only-of-type {\n",
       "        vertical-align: middle;\n",
       "    }\n",
       "\n",
       "    .dataframe tbody tr th {\n",
       "        vertical-align: top;\n",
       "    }\n",
       "\n",
       "    .dataframe thead th {\n",
       "        text-align: right;\n",
       "    }\n",
       "</style>\n",
       "<table border=\"1\" class=\"dataframe\">\n",
       "  <thead>\n",
       "    <tr style=\"text-align: right;\">\n",
       "      <th></th>\n",
       "      <th>alpha</th>\n",
       "      <th>beta_1</th>\n",
       "      <th>beta_2</th>\n",
       "    </tr>\n",
       "  </thead>\n",
       "  <tbody>\n",
       "    <tr>\n",
       "      <th>0</th>\n",
       "      <td>22.374747</td>\n",
       "      <td>-2.782849</td>\n",
       "      <td>5.650499</td>\n",
       "    </tr>\n",
       "    <tr>\n",
       "      <th>1</th>\n",
       "      <td>22.512835</td>\n",
       "      <td>-2.546329</td>\n",
       "      <td>5.579912</td>\n",
       "    </tr>\n",
       "    <tr>\n",
       "      <th>2</th>\n",
       "      <td>22.775509</td>\n",
       "      <td>-2.680918</td>\n",
       "      <td>5.606405</td>\n",
       "    </tr>\n",
       "    <tr>\n",
       "      <th>3</th>\n",
       "      <td>22.605418</td>\n",
       "      <td>-2.765282</td>\n",
       "      <td>5.378979</td>\n",
       "    </tr>\n",
       "    <tr>\n",
       "      <th>4</th>\n",
       "      <td>22.395046</td>\n",
       "      <td>-2.822537</td>\n",
       "      <td>5.477452</td>\n",
       "    </tr>\n",
       "  </tbody>\n",
       "</table>\n",
       "</div>"
      ],
      "text/plain": [
       "       alpha    beta_1    beta_2\n",
       "0  22.374747 -2.782849  5.650499\n",
       "1  22.512835 -2.546329  5.579912\n",
       "2  22.775509 -2.680918  5.606405\n",
       "3  22.605418 -2.765282  5.378979\n",
       "4  22.395046 -2.822537  5.477452"
      ]
     },
     "execution_count": 9,
     "metadata": {},
     "output_type": "execute_result"
    }
   ],
   "source": [
    "# Your code here\n",
    "X = standardize(bdata[['TAX','RM']].copy())\n",
    "y = bdata['MEDV'].copy()\n",
    "kf = KFold(n_splits=5, shuffle=True, random_state=123)\n",
    "kf.get_n_splits(X)\n",
    "\n",
    "results_array = []\n",
    "learning_rate = 0.01\n",
    "iterations = 100000\n",
    "\n",
    "for i, (train_index, test_index) in enumerate(kf.split(X)):\n",
    "    alpha, beta_array = multivariate_ols(standardize(X.loc[train_index]), y.loc[train_index], learning_rate, iterations, True)\n",
    "    results_array.append([alpha, *beta_array])\n",
    "\n",
    "pd.DataFrame(results_array, columns=['alpha', 'beta_1', 'beta_2'])"
   ]
  },
  {
   "cell_type": "markdown",
   "metadata": {
    "id": "cHk88-z5jl7T"
   },
   "source": [
    "*The coefficients I found from cross-validation seem to be centered around the terms I calculated in 2.3, but with variance across each fold. I calculated beta1 to be approximately -2.6, and the range found via cross validation is from -2.822 to -2.546. Similarly, for beta2, I calcualted ~5.5, and the range is from 5.379 to 5.65. The values for alpha are all around 22.5, with a range from 22.374 to 22.775.*"
   ]
  },
  {
   "cell_type": "markdown",
   "metadata": {
    "id": "jaRVr5wpjl7T"
   },
   "source": [
    "### 3.2 Predicted values and RMSE\n",
    "\n",
    "Let's figure out how accurate this predictive model turned out to be. Compute the cross-validated RMSE for each of the 5 folds above. In other words, in fold 1, use the parameters estimated on the 80% of the data to make predictions for the 20%, and calculate the RMSE for those 20%. Repeate this for the remaining folds. Report the RMSE for each of the 5-folds, and the average (mean) RMSE across the five folds. How does this average RMSE compare to the performance of your nearest neighbor algorithm from the last problem set?"
   ]
  },
  {
   "cell_type": "code",
   "execution_count": 10,
   "metadata": {
    "id": "9I1zFLBajl7T",
    "jupyter": {
     "outputs_hidden": true
    }
   },
   "outputs": [
    {
     "name": "stdout",
     "output_type": "stream",
     "text": [
      "[6.912717100751175, 6.215769682033972, 6.539408906703317, 4.44530891646564, 6.392062506289428]\n",
      "6.101053422448706\n"
     ]
    }
   ],
   "source": [
    "# Your code here\n",
    "np.random.seed(1443)\n",
    "X = standardize(bdata[['TAX','RM']].copy())\n",
    "X = sm.add_constant(X)\n",
    "y = bdata['MEDV'].copy()\n",
    "rmse_array = []\n",
    "for i, (train_index, test_index) in enumerate(kf.split(X)):\n",
    "    X_fold = X.loc[test_index]\n",
    "    X_fold = X_fold\n",
    "    y_fold = y.loc[test_index]\n",
    "    y_pred = np.sum(X_fold * results_array[i], axis=1)\n",
    "    squared_error = ((y_pred - y_fold) **2)\n",
    "    rmse_array.append(np.sqrt(np.mean(squared_error)))\n",
    "\n",
    "print(rmse_array)\n",
    "print(np.mean(rmse_array))"
   ]
  },
  {
   "cell_type": "markdown",
   "metadata": {
    "id": "61FuGxiYjl7T"
   },
   "source": [
    "*The RMSE for each of the five folds is: 6.9127, 6.2157, 6.5394, 4.4453, and 6.3920. The average RMSE across the five folds is 6.1010. This is a bit lower than the performance of my nearest neighbor algorithm from the last problem set. For that algorithm, I ended up with an average RMSE value of 6.39 for 25-fold cross validation. Interestingly, that's the average RMSE I calculated for 25-fold cross validation. Since we've only used 5 folds here, that may be indicative of a better performing model.*"
   ]
  },
  {
   "cell_type": "markdown",
   "metadata": {
    "id": "6L-AsWOajl7T"
   },
   "source": [
    "### Extra Credit 1: Logistic Regression\n",
    "\n",
    "For extra credit, implement logistic regression using gradient descent. Create a new variable (EXPENSIVE) to indicate whether the median housing price is more than $40,000. Use this as the binary outcome variable in your logistic regression model with CHAS and RM as inputs. Report your results."
   ]
  },
  {
   "cell_type": "code",
   "execution_count": 39,
   "metadata": {},
   "outputs": [
    {
     "data": {
      "text/plain": [
       "(array([-4.49905915]), array([[0.32016193, 2.10547548]]))"
      ]
     },
     "execution_count": 39,
     "metadata": {},
     "output_type": "execute_result"
    }
   ],
   "source": [
    "from sklearn.linear_model import LogisticRegression\n",
    "from sklearn import preprocessing\n",
    "from sklearn import utils\n",
    "\n",
    "# Creating expensive dummy variable\n",
    "bdata['EXPENSIVE'] = (bdata['MEDV'] > 40.0).astype(int)\n",
    "\n",
    "X = standardize(bdata[['CHAS','RM']].copy())\n",
    "y = bdata['EXPENSIVE'].copy()\n",
    "reg = LogisticRegression(fit_intercept=True, penalty='none').fit(X,y)\n",
    "reg.intercept_, reg.coef_"
   ]
  },
  {
   "cell_type": "code",
   "execution_count": 40,
   "metadata": {
    "id": "UR9qYdndjl7T",
    "jupyter": {
     "outputs_hidden": true
    }
   },
   "outputs": [
    {
     "name": "stdout",
     "output_type": "stream",
     "text": [
      "0.11787551703148859\n",
      "0.11787551713145923\n",
      "9.997064287503576e-11\n",
      "Cost converges after iteration times: 32545\n"
     ]
    }
   ],
   "source": [
    "# Your code here\n",
    "def logistic_regression(xvalue_matrix, yvalues, R=0.01, MaxIterations=10000, add_intercept=True):\n",
    "    '''\n",
    "    Function\n",
    "    --------\n",
    "    multivariate_logistic regression\n",
    "        Gradient Decent to minimize logistic regression. Used to find co-efficients of multivariate logistic regression\n",
    "\n",
    "    Parameters\n",
    "    ----------\n",
    "    xvalue_matrix, yvalues : narray\n",
    "        xvalue_matrix: independent variable\n",
    "        yvalues: dependent variable\n",
    "\n",
    "    R: float\n",
    "        Learning rate\n",
    "\n",
    "    MaxIterations: Int\n",
    "        maximum number of iterations\n",
    "\n",
    "\n",
    "    Returns\n",
    "    -------\n",
    "    alpha: float\n",
    "        intercept\n",
    "\n",
    "    beta_array: array[float]\n",
    "        co-efficient\n",
    "    cost_array: array[float]\n",
    "        Cost at each iteration\n",
    "    parameters_array[float]\n",
    "        coefficients at each iteration\n",
    "    '''\n",
    "    start_time = time.time()\n",
    "    X = xvalue_matrix\n",
    "    y = yvalues\n",
    "    y_new = np.reshape(np.array(y), (len(y), 1))\n",
    "    alpha = np.random.randn()\n",
    "    alpha_array = []\n",
    "    beta = np.random.randn(X.shape[1])\n",
    "    beta_array = []\n",
    "    parameters = np.array([alpha, *beta]).reshape(-1,1)\n",
    "    parameters_array = [parameters]\n",
    "    if add_intercept:  \n",
    "        X.insert(0, 'Intercept', 1)\n",
    "    cost_array = []\n",
    "    for i in range(MaxIterations):\n",
    "        # np.dot(X, parameters) - y_new == sum(alpha + b1x1 + b2x2 - y)\n",
    "        # np.dot(X.T, the dot product above) == multiplying the summation by all independent variable vectors\n",
    "        y_hat = 1/(1+np.exp(-np.dot(X, parameters)))\n",
    "        gradients = 2 * np.dot(X.T, (y_hat - y_new)) / X.shape[0]\n",
    "        parameters = parameters - R*gradients\n",
    "        parameters_array.append(parameters)\n",
    "        curr_loss = -1 * np.sum(y_new*np.log(y_hat) + (1-y_new)*np.log(1-y_hat)) / X.shape[0]\n",
    "        \n",
    "        \n",
    "        # Stopping condition\n",
    "        if i>0 and np.abs(curr_loss - cost_array[-1]) < 1e-10:\n",
    "            print(curr_loss)\n",
    "            print(cost_array[-1])\n",
    "            print(cost_array[-1] - curr_loss)\n",
    "            print('Cost converges after iteration times: {}'.format(i))\n",
    "            break\n",
    "        cost_array.append(curr_loss)\n",
    "    alpha = parameters[0][0]\n",
    "    beta_array = [parameters[i+1][0] for i in range(len(parameters)-1)]\n",
    "    \n",
    "    return alpha, beta_array, cost_array, parameters_array\n",
    "\n",
    "np.random.seed(1443)\n",
    "X = standardize(bdata[['CHAS','RM']].copy())\n",
    "y = bdata['EXPENSIVE'].copy()\n",
    "alpha, beta_array, cost_array, parameters_array = logistic_regression(X, y, MaxIterations=100000)\n"
   ]
  },
  {
   "cell_type": "code",
   "execution_count": 41,
   "metadata": {},
   "outputs": [
    {
     "data": {
      "image/png": "[encoded data removed]",
      "text/plain": [
       "<Figure size 576x576 with 4 Axes>"
      ]
     },
     "metadata": {
      "needs_background": "light"
     },
     "output_type": "display_data"
    }
   ],
   "source": [
    "fig, ax = plt.subplots(2,2, figsize=(8,8))\n",
    "fig.suptitle(\"Results of logistic regression function\")\n",
    "ax[0][0].set_title(\"Cost Function\")\n",
    "ax[0][0].plot(cost_array)\n",
    "ax[0][0].set_ylabel(\"Cost\")\n",
    "\n",
    "ax[0][1].set_title(\"Alpha\")\n",
    "alpha = [item[0] for item in parameters_array]\n",
    "ax[0][1].plot(alpha)\n",
    "ax[0][1].set_ylabel(\"Estimated Alpha Value\")\n",
    "\n",
    "ax[1][0].set_title(\"CHAS\")\n",
    "beta1 = [item[1] for item in parameters_array]\n",
    "ax[1][0].plot(beta1)\n",
    "ax[1][0].set_ylabel(\"Estimated Beta1 Value\")\n",
    "\n",
    "ax[1][1].set_title(\"RM\")\n",
    "beta2 = [item[2] for item in parameters_array]\n",
    "ax[1][1].plot(beta2)\n",
    "ax[1][1].set_ylabel(\"Estimated Beta2 Value\")\n",
    "fig.supxlabel(\"Iterations\")\n",
    "plt.tight_layout();"
   ]
  },
  {
   "cell_type": "code",
   "execution_count": 42,
   "metadata": {},
   "outputs": [
    {
     "name": "stdout",
     "output_type": "stream",
     "text": [
      "Raw coefficients: [-4.4910756   0.3196043   2.10093202]\n",
      "Odds Ratios: [0.01120858 1.37658295 8.17378446]\n"
     ]
    }
   ],
   "source": [
    "# Interpretation of results\n",
    "parameters = parameters_array[-1]\n",
    "print(\"Raw coefficients: {}\".format(parameters.reshape(1,-1)[0]))\n",
    "# Converting raw coefficients to odds ratios\n",
    "odds_ratios = np.exp(parameters.reshape(1,-1)[0])\n",
    "print(\"Odds Ratios: {}\".format(odds_ratios))"
   ]
  },
  {
   "cell_type": "markdown",
   "metadata": {
    "id": "04AamlXLjl7T"
   },
   "source": [
    "*The results of my logistic regression function are: alpha: -4.4910, beta1: 0.3196, beta2: 2.1009. This is pretty close to the sklearn logistic regression function results: alpha: -4.4990, beta1: 0.32016, beta2: 2.1054. (Sklearn by default includes ridge regularization in its logistic regression, so I had to turn that off to get the same results.)*\n",
    "\n",
    "*Since we're trying to interpret logistic regression, we can't directly say a one unit increase in CHAS or RM directly means a 0.3 or 2.1 percent increase in a home being expensive. In particular, the interpretation of beta2 doesn't make any sense. Converting my coefficients to odds ratios helps us interpret the coefficients. Specifically, the coefficient on CHAS becomes 1.3765, which means that a home being in a tract that borders the Charles river is associated with a ~37% increase in odds of being an expensive home. Similarly, a one unit increase in the number of rooms is associated with more than an 8x increase in odds of being an expensive home.*\n",
    "\n",
    "*To pressure test my results, I graphed the cost and parameter gradients as my algorithm processed (shown in the 2x2 graph). Across over 30k iterations, the cost and parameters all seem to be nicely following the gradient to their optimal values. Although the coefficients aren't exactly the same as from sklearn, they are pretty close. As for the graph of beta_CHAS, I'm not sure why it drops off very suddenly at the beginning and then rises. This didn't occur until I set my random seed to 1443 to ensure reproducibility.*"
   ]
  },
  {
   "cell_type": "markdown",
   "metadata": {
    "id": "nvkpICWsjl7T"
   },
   "source": [
    "## 4 Regularization \n",
    "\n",
    "### 4.1 Get prepped\n",
    "\n",
    "Step 1: Create new interaction variables between each possible pair of the F_s features. If you originally had *K* features, you should now have K+(K*(K+1))/2 features. Standardize all of your features.\n",
    "\n",
    "Step 2: Randomly sample 80% of your data and call this the training set, and set aside the remaining 20% as your test set."
   ]
  },
  {
   "cell_type": "code",
   "execution_count": 43,
   "metadata": {
    "id": "89-Zqpssjl7U",
    "jupyter": {
     "outputs_hidden": true
    }
   },
   "outputs": [
    {
     "name": "stdout",
     "output_type": "stream",
     "text": [
      "(506, 105)\n"
     ]
    }
   ],
   "source": [
    "# Your code here\n",
    "np.random.seed(1443)\n",
    "# Dropping added column from logistic regression\n",
    "if bdata.keys().isin(['EXPENSIVE']).max():\n",
    "    bdata = bdata.drop(columns='EXPENSIVE')\n",
    "df = bdata.copy()\n",
    "for feature in bdata.loc[:, bdata.keys() !='MEDV'].keys():\n",
    "    for interaction in bdata.loc[:, bdata.keys() !='MEDV'].keys():\n",
    "        # Making sure I haven't added this new feature yet\n",
    "        if not df.keys().isin([interaction + \"*\" + feature]).max():\n",
    "            # If they're not the same, interact them\n",
    "            if feature != interaction:\n",
    "                new_feature = pd.DataFrame(df.loc[:, feature] * df.loc[:, interaction], columns=[feature + \"*\" + interaction])\n",
    "                df = pd.concat([df,new_feature], axis=1)\n",
    "            # If they are the same, square the term\n",
    "            else:\n",
    "                new_feature = pd.DataFrame((df.loc[:, feature] * df.loc[:, feature]))\n",
    "                new_name = feature+\"^2\"\n",
    "                new_feature = new_feature.rename(columns={feature: new_name})\n",
    "                df = pd.concat([df,new_feature], axis=1)\n",
    "print(df.shape)\n",
    "train_set = df.sample(frac=0.8)\n",
    "test_set = df.drop(train_set.index)"
   ]
  },
  {
   "cell_type": "markdown",
   "metadata": {},
   "source": [
    "*Since we start with 13 features, K+ (K*(K+1))/2 yields a total of 104 features. With our outcome variable, MEDV, includes, we have 105 columns in total.*"
   ]
  },
  {
   "cell_type": "markdown",
   "metadata": {
    "id": "JeXkvp7njl7U"
   },
   "source": [
    "### 4.2 Overfitting (sort of)\n",
    "Now, using your version of multivariate regression from 2.3, let's overfit the training data. Using your training set, regress housing price on as many of those K+(K*(K+1))/2 features as you can (Don't forget to add quadratic terms. Form instance, RM^2.).  If you get too greedy, it's possible this will take a long time to compute, so start with 5-10 features, and if you have the time, add more features.\n",
    "\n",
    "Report the RMSE when you apply your model to your training set and to your testing set. How do these numbers compare to each other, and to the RMSE from 3.2 and nearest neighbors?"
   ]
  },
  {
   "cell_type": "code",
   "execution_count": 44,
   "metadata": {},
   "outputs": [
    {
     "name": "stdout",
     "output_type": "stream",
     "text": [
      "Time taken: 74.25 seconds\n"
     ]
    },
    {
     "data": {
      "text/plain": [
       "(2.7215808752074677, 47.1769406942674)"
      ]
     },
     "execution_count": 44,
     "metadata": {},
     "output_type": "execute_result"
    }
   ],
   "source": [
    "np.random.seed(1443)\n",
    "\n",
    "# Setting up design matrix and storing mean and std values for later\n",
    "features = train_set.keys() !='MEDV'\n",
    "X = standardize(train_set.loc[:, features].copy())\n",
    "sample_mean_x = train_set.loc[:, features].copy().mean()\n",
    "sample_std_x = train_set.loc[:, features].copy().std()\n",
    "y = train_set['MEDV'].copy()\n",
    "\n",
    "# Running gradient descent for training data\n",
    "results = multivariate_ols(X, y, 0.01, 100000)\n",
    "y_pred = np.sum(X * [results[0], *results[1]], axis=1)\n",
    "squared_error = (y - y_pred) **2\n",
    "train_rmse = np.sqrt(np.mean(squared_error))\n",
    "train_rmse\n",
    "\n",
    "# Running gradient descent for training data, making sure to normalize with our sample mean and std\n",
    "X_test = sm.add_constant(test_set.loc[:, features].copy())\n",
    "X_test = (X_test - sample_mean_x) / sample_std_x\n",
    "y_test = test_set['MEDV'].copy()\n",
    "y_pred = np.sum(X_test * [results[0], *results[1]], axis=1)\n",
    "squared_error = (y_test - y_pred) **2\n",
    "test_rmse = np.sqrt(np.mean(squared_error))\n",
    "test_rmse\n",
    "\n",
    "# Reporting results\n",
    "train_rmse, test_rmse"
   ]
  },
  {
   "cell_type": "markdown",
   "metadata": {
    "id": "wf3h2JEIjl7U"
   },
   "source": [
    "*When I include all features from 4.1 in my model, it takes about 60-80 seconds to run, the training RMSE plummets to about ~2.7215, and the test RMSE increases to ~47.1769. The training RMSE is lower than 3.2 or nearest neighbor (by far), but the test RMSE is also much higher. This is a clear indication that we are overfitting the data.*"
   ]
  },
  {
   "cell_type": "markdown",
   "metadata": {
    "id": "XDlDsi4wjl7U"
   },
   "source": [
    "### 4.3 Ridge regularization (basic)\n",
    "Incorporate L2 (Ridge) regularization into your multivariate_ols regression. Write a new version of your gradient descent algorithm that includes a regularization term \"lambda\" to penalize excessive complexity. \n",
    "\n",
    "Use your regularized regression to re-fit the model from 4.2 above on your training data, using the value lambda = 0.5.  Report the RMSE obtained for your training data, and the RMSE obtained for your testing data."
   ]
  },
  {
   "cell_type": "code",
   "execution_count": 142,
   "metadata": {
    "id": "Rlaok4imjl7U",
    "jupyter": {
     "outputs_hidden": true
    }
   },
   "outputs": [
    {
     "name": "stdout",
     "output_type": "stream",
     "text": [
      "7.675295831989378\n",
      "7.675295832089369\n",
      "9.99911264898401e-11\n",
      "Cost converges after iteration times: 11451\n",
      "Time taken: 8.56 seconds\n"
     ]
    },
    {
     "data": {
      "text/plain": [
       "(3.604413227159521, 36.08915928091687)"
      ]
     },
     "execution_count": 142,
     "metadata": {},
     "output_type": "execute_result"
    }
   ],
   "source": [
    "# Your code here\n",
    "\n",
    "def multivariate_ols_ridge(xvalue_matrix, yvalues, R=0.01, MaxIterations=10000, add_intercept=True, reg=0.5):\n",
    "    # your code here\n",
    "    start_time = time.time()\n",
    "    X = xvalue_matrix\n",
    "    y = yvalues\n",
    "    y_new = np.reshape(np.array(y), (len(y), 1))\n",
    "    alpha = np.random.randn()\n",
    "    alpha_array = []\n",
    "    beta = np.random.randn(X.shape[1])\n",
    "    beta_array = []\n",
    "    parameters = np.array([alpha, *beta]).reshape(-1,1)\n",
    "    parameters_array = [parameters]\n",
    "    if add_intercept:  \n",
    "        X.insert(0, 'Intercept', 1)\n",
    "    cost_array = []\n",
    "    for i in range(MaxIterations):\n",
    "        # Calculating gradients\n",
    "        # np.dot(X, parameters) - y_new == sum(alpha + b1x1 + b2x2 - y)\n",
    "        # np.dot(X.T, the dot product above) == multiplying the summation by all independent variable vectors\n",
    "        gradients = np.dot(X.T, np.dot(X, parameters) - y_new) / X.shape[0]\n",
    "        \n",
    "        # Adding regularization to non-intercept gradients\n",
    "        gradients[1:] = gradients[1:] + reg/X.shape[0]*parameters[1:]\n",
    "\n",
    "        # Calculating regularization cost - excluding intercept parameter\n",
    "        reg_cost = reg*np.sum(parameters[1:]**2)\n",
    "        \n",
    "        # Updating parameters\n",
    "        parameters = parameters - R*gradients\n",
    "        \n",
    "        parameters_array.append(parameters)\n",
    "        # Adding regularization cost to the cost function\n",
    "        curr_loss = ((np.sum((np.dot(X, parameters) - y_new)**2)) + reg_cost) / (2* X.shape[0])\n",
    "        if i>0 and np.abs(curr_loss - cost_array[-1]) < 1e-10:\n",
    "            print(curr_loss)\n",
    "            print(cost_array[-1])\n",
    "            print(cost_array[-1] - curr_loss)\n",
    "            print('Cost converges after iteration times: {}'.format(i))\n",
    "            break\n",
    "        \n",
    "        cost_array.append(curr_loss)\n",
    "    alpha = parameters[0][0]\n",
    "    beta_array = [parameters[i+1][0] for i in range(len(parameters)-1)]\n",
    "    print(\"Time taken: {:.2f} seconds\".format(time.time() - start_time))\n",
    "    return alpha, beta_array\n",
    "\n",
    "np.random.seed(1443)\n",
    "features = train_set.keys() !='MEDV'\n",
    "X = standardize(train_set.loc[:, features].copy())\n",
    "sample_mean_x = train_set.loc[:, features].copy().mean()\n",
    "sample_std_x = train_set.loc[:, features].copy().std()\n",
    "y = train_set['MEDV'].copy()\n",
    "\n",
    "results = multivariate_ols_ridge(X, y, 0.01, 100000, reg=30)\n",
    "y_pred = np.sum(X * [results[0], *results[1]], axis=1)\n",
    "squared_error = (y - y_pred) **2\n",
    "train_rmse = np.sqrt(np.mean(squared_error))\n",
    "train_rmse\n",
    "\n",
    "X_test = sm.add_constant(test_set.loc[:, features].copy())\n",
    "X_test = (X_test - sample_mean_x) / sample_std_x\n",
    "y_test = test_set['MEDV'].copy()\n",
    "y_pred = np.sum(X_test * [results[0], *results[1]], axis=1)\n",
    "squared_error = (y_test - y_pred) **2\n",
    "test_rmse = np.sqrt(np.mean(squared_error))\n",
    "test_rmse\n",
    "\n",
    "train_rmse, test_rmse"
   ]
  },
  {
   "cell_type": "code",
   "execution_count": 143,
   "metadata": {},
   "outputs": [
    {
     "data": {
      "text/plain": [
       "(22.422222222222235,\n",
       " array([ 0.03696934, -0.05598336,  0.06433376,  0.08963693,  0.04021113,\n",
       "         1.59270255, -0.01205807, -0.51177034,  0.51988319, -0.13405028,\n",
       "        -0.43919471,  0.25454583, -0.35375111,  0.07804643,  0.20266612,\n",
       "         0.05283464,  0.88276083, -0.18761718, -0.51702887,  0.12796636,\n",
       "        -0.24523725,  0.01687757,  0.0414901 ,  0.02078411, -0.52747571,\n",
       "         0.20355266,  0.42965122, -0.38976036, -0.00793822,  0.42091192,\n",
       "         0.42996856,  0.17885632,  0.04281518, -0.00830639, -0.21409271,\n",
       "         0.11625647, -0.00919906, -0.78373155,  0.74432657, -0.04950277,\n",
       "        -0.15296487, -0.54921068,  0.08235111, -0.51226288,  0.20492935,\n",
       "         0.60975622, -0.017801  ,  0.27909616, -0.48696624,  0.08963693,\n",
       "        -0.28192706, -0.16773475,  0.3802671 ,  0.43424648, -0.79354708,\n",
       "        -0.28389111,  0.13566255,  0.45805863, -0.44566631, -0.25195283,\n",
       "         0.01748238, -0.2711279 , -0.10740011,  0.09804477, -0.24818083,\n",
       "        -0.19810158,  0.51102587, -0.49431816,  2.58834194, -0.08443688,\n",
       "         0.01694107, -0.38013496, -0.99163983, -0.54047414,  1.15940963,\n",
       "        -2.0181267 , -0.04416851, -0.0685216 ,  0.31259333, -0.00499826,\n",
       "        -0.26870881, -0.09687912, -0.82425345,  0.12936133,  0.45896761,\n",
       "        -0.98790041, -0.28334233, -0.44825856,  0.74879543,  0.06093899,\n",
       "         0.20322291,  0.3981055 ,  0.50778735, -0.76772009,  0.17742735,\n",
       "         0.00554971, -0.0603598 , -0.72008934, -0.46980497, -0.09362638,\n",
       "        -0.11206029, -0.43525396, -0.54423163,  1.55016714]))"
      ]
     },
     "execution_count": 143,
     "metadata": {},
     "output_type": "execute_result"
    }
   ],
   "source": [
    "from sklearn.linear_model import Ridge\n",
    "clf = Ridge(fit_intercept=True, alpha=30)\n",
    "features = train_set.keys() !='MEDV'\n",
    "X = standardize(train_set.loc[:, features].copy())\n",
    "y = train_set['MEDV'].copy()\n",
    "clf.fit(X,y)\n",
    "clf.intercept_, clf.coef_"
   ]
  },
  {
   "cell_type": "code",
   "execution_count": 144,
   "metadata": {},
   "outputs": [
    {
     "data": {
      "text/plain": [
       "array([ 0.,  0., -0.,  0., -0.,  0., -0., -0., -0., -0.,  0., -0.,  0.,\n",
       "        0.,  0., -0.,  0., -0., -0., -0.,  0., -0.,  0.,  0.,  0., -0.,\n",
       "        0.,  0.,  0.,  0., -0.,  0.,  0.,  0., -0.,  0., -0., -0.,  0.,\n",
       "        0., -0., -0.,  0.,  0.,  0., -0.,  0.,  0., -0.,  0.,  0.,  0.,\n",
       "       -0., -0.,  0., -0., -0., -0.,  0., -0.,  0.,  0.,  0.,  0., -0.,\n",
       "        0., -0., -0., -0.,  0.,  0.,  0.,  0., -0.,  0., -0., -0., -0.,\n",
       "       -0., -0., -0.,  0.,  0., -0., -0.,  0., -0.,  0.,  0., -0., -0.,\n",
       "       -0.,  0.,  0., -0., -0.,  0.,  0.,  0.,  0., -0.,  0.,  0.,  0.])"
      ]
     },
     "execution_count": 144,
     "metadata": {},
     "output_type": "execute_result"
    }
   ],
   "source": [
    "np.round((results[1] - clf.coef_), 2)"
   ]
  },
  {
   "cell_type": "markdown",
   "metadata": {},
   "source": [
    "*This is showing that my coefficients and sklearn's coefficients are very similar.*"
   ]
  },
  {
   "cell_type": "code",
   "execution_count": 145,
   "metadata": {},
   "outputs": [
    {
     "data": {
      "text/plain": [
       "(3.6044008971537385, 36.088370330106756)"
      ]
     },
     "execution_count": 145,
     "metadata": {},
     "output_type": "execute_result"
    }
   ],
   "source": [
    "X = sm.add_constant(X)\n",
    "sample_mean_x = train_set.loc[:, features].copy().mean()\n",
    "sample_std_x = train_set.loc[:, features].copy().std()\n",
    "y_pred = np.sum(X * [clf.intercept_, *clf.coef_], axis=1)\n",
    "y_pred\n",
    "squared_error = (y - y_pred) **2\n",
    "train_rmse = np.sqrt(np.mean(squared_error))\n",
    "train_rmse\n",
    "\n",
    "X_test = sm.add_constant(test_set.loc[:, features].copy())\n",
    "X_test = (X_test - sample_mean_x) / sample_std_x\n",
    "y_test = test_set['MEDV'].copy()\n",
    "y_pred = np.sum(X_test * [clf.intercept_, *clf.coef_], axis=1)\n",
    "squared_error = (y_test - y_pred) **2\n",
    "test_rmse = np.sqrt(np.mean(squared_error))\n",
    "test_rmse\n",
    "\n",
    "train_rmse, test_rmse"
   ]
  },
  {
   "cell_type": "markdown",
   "metadata": {
    "id": "sxZdfCKvjl7U"
   },
   "source": [
    "*Using L2 regularization with lambda=0.5, my training RMSE is 3.6044 and my test RMSE is 36.0891. The training RMSE has has increased a bit from 4.2 (it was 2.616), while the test RMSE has been reduced by a good amount (from 48.8678). This is likely because the L2 regularization is driving some coefficients to zero. This makes sense because we're fitting the model with so many parameters (many of which we would likely believe don't have much impact), while the number of true parameters is probably pretty small.*"
   ]
  },
  {
   "cell_type": "markdown",
   "metadata": {
    "id": "QIYjxCfAjl7U"
   },
   "source": [
    "### 4.4: Cross-validate lambda\n",
    "\n",
    "This is where it all comes together! Use k-fold cross-validation to select the optimal value of lambda. In other words, define a set of different values of lambda. Then, using the 80% of your data that you set aside for training, iterate through the values of lambda one at a time. For each value of lambda, use k-fold cross-validation to compute the average cross-validated (test) RMSE for that lambda value, computed as the average across the held-out folds. You should also record the average cross-validated train RMSE, computed as the average across the folds used for training. Create a scatter plot that shows RMSE as a function of lambda. The scatter plot should have two lines: a red line showing the cross-validated (test) RMSE, and a blue line showing the cross-validated train RMSE.  At this point, you should not have touched your held-out 20% of \"true\" test data.\n",
    "\n",
    "What value of lambda minimizes your cross-validated (test) RMSE? Fix that value of lambda, and train a new model using all of your training data with that value of lambda (i.e., use the entire 80% of the data that you set aside in 4.1). Calcuate the RMSE for this model on the 20% of \"true\" test data. How does your test RMSE compare to the RMSE from 4.3, 4.2, 2.3, and to the RMSE from nearest neighbors? What do you make of these results?\n",
    "\n",
    "Go brag to your friends about how you just implemented cross-validated ridge-regularized multivariate regression using gradient descent optimization, from scratch. If you still have friends."
   ]
  },
  {
   "cell_type": "code",
   "execution_count": 302,
   "metadata": {
    "id": "35QDSkeGjl7U",
    "jupyter": {
     "outputs_hidden": true
    }
   },
   "outputs": [
    {
     "name": "stdout",
     "output_type": "stream",
     "text": [
      "Time taken: 67.58 seconds\n",
      "2.4245432365498294\n",
      "4.671879993488715\n",
      "Time taken: 69.28 seconds\n",
      "2.7062846878537883\n",
      "4.865795196440327\n",
      "Time taken: 69.01 seconds\n",
      "2.7127478893991914\n",
      "5.101230061056592\n",
      "Time taken: 67.21 seconds\n",
      "2.8510065267173226\n",
      "2.81409170552684\n",
      "Time taken: 79.83 seconds\n",
      "2.6984990795794483\n",
      "3.464538738042718\n",
      "Time taken: 71.56 seconds\n",
      "2.5226857987725095\n",
      "4.471911424399449\n",
      "Time taken: 65.39 seconds\n",
      "2.778766304813305\n",
      "4.874404711626405\n",
      "Time taken: 64.34 seconds\n",
      "2.766894099043142\n",
      "5.076205875728494\n",
      "Time taken: 64.73 seconds\n",
      "2.931384774168918\n",
      "2.8175956810652574\n",
      "Time taken: 64.01 seconds\n",
      "2.7840447365176173\n",
      "3.429243587005546\n",
      "Time taken: 64.34 seconds\n",
      "2.626438342531765\n",
      "4.3863448181192455\n",
      "Time taken: 64.10 seconds\n",
      "2.8458950404215333\n",
      "4.820965138643108\n",
      "Time taken: 64.46 seconds\n",
      "2.825319907865516\n",
      "5.037649742674983\n",
      "Time taken: 63.96 seconds\n",
      "3.0136731758382846\n",
      "2.842080688737007\n",
      "Time taken: 64.70 seconds\n",
      "2.8654146446259485\n",
      "3.4124972884632174\n",
      "4.54447492995832\n",
      "4.544474930058312\n",
      "9.99920146682598e-11\n",
      "Cost converges after iteration times: 93936\n",
      "Time taken: 60.21 seconds\n",
      "2.7589365434369593\n",
      "4.345363941404776\n",
      "4.975171258682108\n",
      "4.975171258782097\n",
      "9.9988461954581e-11\n",
      "Cost converges after iteration times: 92365\n",
      "Time taken: 59.27 seconds\n",
      "2.939032137788095\n",
      "4.751654377123978\n",
      "4.828664162976093\n",
      "4.828664163076086\n",
      "9.99929028466795e-11\n",
      "Cost converges after iteration times: 92130\n",
      "Time taken: 61.35 seconds\n",
      "2.9065403622250794\n",
      "4.984325952395759\n",
      "5.5851141934086925\n",
      "5.585114193508682\n",
      "9.99893501330007e-11\n",
      "Cost converges after iteration times: 92303\n",
      "Time taken: 59.84 seconds\n",
      "3.121699232634277\n",
      "2.904418910913785\n",
      "5.194538796852098\n",
      "5.1945387969520915\n",
      "9.99937910250992e-11\n",
      "Cost converges after iteration times: 96011\n",
      "Time taken: 62.91 seconds\n",
      "2.973737852739163\n",
      "3.393680061778465\n",
      "4.713658867909658\n",
      "4.713658868009652\n",
      "9.99946792035189e-11\n",
      "Cost converges after iteration times: 78997\n",
      "Time taken: 51.45 seconds\n",
      "2.805744982785221\n",
      "4.343663394085812\n",
      "5.127196015179929\n",
      "5.127196015279927\n",
      "9.99982319171977e-11\n",
      "Cost converges after iteration times: 79025\n",
      "Time taken: 51.29 seconds\n",
      "2.973460225869775\n",
      "4.726665524820782\n",
      "4.969202615724455\n",
      "4.9692026158244404\n",
      "9.99857974193219e-11\n",
      "Cost converges after iteration times: 76222\n",
      "Time taken: 49.86 seconds\n",
      "2.9373130604385604\n",
      "4.969974337864174\n",
      "5.7486023278534635\n",
      "5.748602327953461\n",
      "9.9997343738778e-11\n",
      "Cost converges after iteration times: 78959\n",
      "Time taken: 62.98 seconds\n",
      "3.1610614734307148\n",
      "2.935407469254296\n",
      "5.37367458278546\n",
      "5.373674582885446\n",
      "9.99857974193219e-11\n",
      "Cost converges after iteration times: 79622\n",
      "Time taken: 63.45 seconds\n",
      "3.013594954845431\n",
      "3.3845802811462575\n",
      "4.858472762987948\n",
      "4.85847276308794\n",
      "9.99920146682598e-11\n",
      "Cost converges after iteration times: 64692\n",
      "Time taken: 44.95 seconds\n",
      "2.8452394172962605\n",
      "4.346583530280347\n",
      "5.259958709018507\n",
      "5.259958709118506\n",
      "9.99991200956174e-11\n",
      "Cost converges after iteration times: 65739\n",
      "Time taken: 47.26 seconds\n",
      "3.003343080541809\n",
      "4.706228731008786\n",
      "5.092655611166723\n",
      "5.092655611266709\n",
      "9.99857974193219e-11\n",
      "Cost converges after iteration times: 66503\n",
      "Time taken: 52.57 seconds\n",
      "2.964301689494844\n",
      "4.95977647071275\n",
      "5.888828181528332\n",
      "5.888828181628323\n",
      "9.99911264898401e-11\n",
      "Cost converges after iteration times: 66944\n",
      "Time taken: 48.83 seconds\n",
      "3.1947849905524475\n",
      "2.9655151229065777\n",
      "5.5302162479646935\n",
      "5.530216248064684\n",
      "9.99902383114204e-11\n",
      "Cost converges after iteration times: 66517\n",
      "Time taken: 46.69 seconds\n",
      "3.0482223468528926\n",
      "3.376046041439024\n",
      "4.985710473710222\n",
      "4.985710473810204\n",
      "9.99813565272234e-11\n",
      "Cost converges after iteration times: 58629\n",
      "Time taken: 41.25 seconds\n",
      "2.879567171730176\n",
      "4.352137244024057\n",
      "5.37849739143203\n",
      "5.378497391532025\n",
      "9.99946792035189e-11\n",
      "Cost converges after iteration times: 58821\n",
      "Time taken: 41.52 seconds\n",
      "3.030010476417392\n",
      "4.6885551956792275\n",
      "5.203405334260864\n",
      "5.203405334360857\n",
      "9.99929028466795e-11\n",
      "Cost converges after iteration times: 57866\n",
      "Time taken: 40.25 seconds\n",
      "2.9885290352621143\n",
      "4.951919803487171\n",
      "6.012121431097647\n",
      "6.012121431197625\n",
      "9.99778038135446e-11\n",
      "Cost converges after iteration times: 58702\n",
      "Time taken: 40.28 seconds\n",
      "3.224375079801383\n",
      "2.9947198352942666\n",
      "5.670033964250263\n",
      "5.670033964350254\n",
      "9.99911264898401e-11\n",
      "Cost converges after iteration times: 59550\n",
      "Time taken: 42.09 seconds\n",
      "3.079133944148662\n",
      "3.3683341816591126\n",
      "5.099571594903076\n",
      "5.099571595003052\n",
      "9.99760274567052e-11\n",
      "Cost converges after iteration times: 53126\n",
      "Time taken: 36.72 seconds\n",
      "2.9100476981946874\n",
      "4.359202659698176\n",
      "5.485981534915921\n",
      "5.485981535015899\n",
      "9.99778038135446e-11\n",
      "Cost converges after iteration times: 51966\n",
      "Time taken: 35.61 seconds\n",
      "3.0542464908265705\n",
      "4.6741951073134285\n",
      "5.304234305642134\n",
      "5.304234305742126\n",
      "9.99920146682598e-11\n",
      "Cost converges after iteration times: 52540\n",
      "Time taken: 34.83 seconds\n",
      "3.0106328780999356\n",
      "4.946393174257282\n",
      "6.1224512820537065\n",
      "6.122451282153685\n",
      "9.99786919919643e-11\n",
      "Cost converges after iteration times: 51408\n",
      "Time taken: 34.06 seconds\n",
      "3.2508666993684967\n",
      "3.0230759463578702\n",
      "5.796811871599376\n",
      "5.79681187169937\n",
      "9.99946792035189e-11\n",
      "Cost converges after iteration times: 52751\n",
      "Time taken: 34.16 seconds\n",
      "3.1073165684329\n",
      "3.361534315167632\n",
      "5.297493084330348\n",
      "5.297493084430315\n",
      "9.99671456725082e-11\n",
      "Cost converges after iteration times: 44916\n",
      "Time taken: 30.03 seconds\n",
      "2.9628241790859726\n",
      "4.375563725976044\n",
      "5.675746990562493\n",
      "5.6757469906624785\n",
      "9.99857974193219e-11\n",
      "Cost converges after iteration times: 43520\n",
      "Time taken: 28.48 seconds\n",
      "3.097343546749119\n",
      "4.650561861472766\n",
      "5.483171626909861\n",
      "5.483171627009848\n",
      "9.99866855977416e-11\n",
      "Cost converges after iteration times: 43037\n",
      "Time taken: 27.95 seconds\n",
      "3.050139772598536\n",
      "4.9390550443679135\n",
      "6.3141181526663015\n",
      "6.314118152766275\n",
      "9.99733629214461e-11\n",
      "Cost converges after iteration times: 43327\n",
      "Time taken: 29.52 seconds\n",
      "3.296947042213973\n",
      "3.076431654897664\n",
      "6.0205037572263205\n",
      "6.020503757326302\n",
      "9.99813565272234e-11\n",
      "Cost converges after iteration times: 42915\n",
      "Time taken: 29.90 seconds\n",
      "3.157568987223338\n",
      "3.3505728402541473\n",
      "5.971103721190533\n",
      "5.971103721290515\n",
      "9.99813565272234e-11\n",
      "Cost converges after iteration times: 23256\n",
      "Time taken: 17.02 seconds\n",
      "3.1434398814496496\n",
      "4.463172541029411\n",
      "6.345067337151743\n",
      "6.345067337251712\n",
      "9.99689220293476e-11\n",
      "Cost converges after iteration times: 24278\n",
      "Time taken: 17.31 seconds\n",
      "3.2548911975436483\n",
      "4.595151082404458\n",
      "6.123786998506692\n",
      "6.1237869986066595\n",
      "9.99671456725082e-11\n",
      "Cost converges after iteration times: 24613\n",
      "Time taken: 16.64 seconds\n",
      "3.1965484327864657\n",
      "4.929142364194578\n",
      "6.965143522482879\n",
      "6.9651435225828395\n",
      "9.99609284235703e-11\n",
      "Cost converges after iteration times: 23816\n",
      "Time taken: 15.44 seconds\n",
      "3.455302694407564\n",
      "3.286213054044771\n",
      "6.804446985448028\n",
      "6.804446985547999\n",
      "9.99715865646067e-11\n",
      "Cost converges after iteration times: 24435\n",
      "Time taken: 16.12 seconds\n",
      "3.342815340003317\n",
      "3.3322213131929463\n",
      "6.400547139081956\n",
      "6.400547139181892\n",
      "9.993605942781869e-11\n",
      "Cost converges after iteration times: 17304\n",
      "Time taken: 11.21 seconds\n",
      "3.2603581901615994\n",
      "4.537438771587791\n",
      "6.787230559845245\n",
      "6.787230559945157\n",
      "9.991207861048679e-11\n",
      "Cost converges after iteration times: 17375\n",
      "Time taken: 11.39 seconds\n",
      "3.3634169860065093\n",
      "4.578360327038739\n",
      "6.5552575331898755\n",
      "6.55525753328978\n",
      "9.990408500470949e-11\n",
      "Cost converges after iteration times: 17208\n",
      "Time taken: 11.70 seconds\n",
      "3.299568221832983\n",
      "4.92708080969921\n",
      "7.380589879540052\n",
      "7.380589879639948\n",
      "9.989609139893219e-11\n",
      "Cost converges after iteration times: 16841\n",
      "Time taken: 11.29 seconds\n",
      "3.5576484171666864\n",
      "3.428957535722153\n",
      "7.313949678789561\n",
      "7.313949678889477\n",
      "9.991651950258529e-11\n",
      "Cost converges after iteration times: 17188\n",
      "Time taken: 10.98 seconds\n",
      "3.470595808971081\n",
      "3.3428332775661445\n",
      "6.717684554500335\n",
      "6.717684554600271\n",
      "9.993605942781869e-11\n",
      "Cost converges after iteration times: 13152\n",
      "Time taken: 8.39 seconds\n",
      "3.34632734596921\n",
      "4.597619982726671\n",
      "7.120314148606766\n",
      "7.120314148706735\n",
      "9.99698102077673e-11\n",
      "Cost converges after iteration times: 13082\n",
      "Time taken: 8.36 seconds\n",
      "3.445577401649573\n",
      "4.573085499163221\n",
      "6.884260141821629\n",
      "6.88426014192156\n",
      "9.993073035730049e-11\n",
      "Cost converges after iteration times: 13560\n",
      "Time taken: 8.68 seconds\n",
      "3.379115434573007\n",
      "4.924132832242134\n",
      "7.688620421779225\n",
      "7.688620421879201\n",
      "9.99760274567052e-11\n",
      "Cost converges after iteration times: 12866\n",
      "Time taken: 8.32 seconds\n",
      "3.633047604303822\n",
      "3.5326856504078514\n",
      "7.691265252463095\n",
      "7.6912652525630145\n",
      "9.991918403784439e-11\n",
      "Cost converges after iteration times: 13257\n",
      "Time taken: 8.55 seconds\n",
      "3.56678919697758\n",
      "3.3616236182831165\n"
     ]
    },
    {
     "data": {
      "text/plain": [
       "([2.678616284019916,\n",
       "  2.7567551426630983,\n",
       "  2.8353482222566098,\n",
       "  2.939989225764715,\n",
       "  2.9782349394739405,\n",
       "  3.011178304947651,\n",
       "  3.0403231414719456,\n",
       "  3.066622066984518,\n",
       "  3.112964705574188,\n",
       "  3.2785995092381293,\n",
       "  3.390317524827771,\n",
       "  3.4741713966946386],\n",
       " [4.183507138911039,\n",
       "  4.133872255965031,\n",
       "  4.099907535327512,\n",
       "  4.075888648723352,\n",
       "  4.072058201434264,\n",
       "  4.070829979269497,\n",
       "  4.071133252028767,\n",
       "  4.072880240558877,\n",
       "  4.078437025393707,\n",
       "  4.121180070973233,\n",
       "  4.162934144322807,\n",
       "  4.197829516564599])"
      ]
     },
     "execution_count": 302,
     "metadata": {},
     "output_type": "execute_result"
    }
   ],
   "source": [
    "# Your code here\n",
    "np.random.seed(1443)\n",
    "lambda_values = [0.1, 0.5, 1, 2,2.5, 3,3.5, 4,5, 10, 15, 20]\n",
    "learning_rate = 0.01\n",
    "iterations = 100000\n",
    "features = train_set.keys() !='MEDV'\n",
    "avg_train_rmse = []\n",
    "avg_test_rmse = []\n",
    "\n",
    "for j in range(len(lambda_values)):\n",
    "    X = standardize(train_set.loc[:, features].copy())\n",
    "    sample_mean = train_set.loc[:, features].copy().mean()\n",
    "    sample_std = train_set.loc[:, features].copy().std()\n",
    "    y = train_set['MEDV'].copy()\n",
    "    kf = KFold(n_splits=5)\n",
    "    kf.get_n_splits(X)\n",
    "    train_rmse_array = []\n",
    "    test_rmse_array = []\n",
    "\n",
    "    for i, (train_index, test_index) in enumerate(kf.split(X)):\n",
    "        X_fold = standardize(X.loc[X.index[train_index]])\n",
    "        y_fold = y.loc[y.index[train_index]]\n",
    "        results = multivariate_ols_ridge(X_fold, y_fold, learning_rate, iterations, True, reg=lambda_values[j])\n",
    "        # Computing train_rmse\n",
    "        y_pred = np.sum(X_fold * [results[0], *results[1]], axis=1)\n",
    "        squared_error = (y_fold - y_pred) **2\n",
    "        train_rmse = np.sqrt(np.mean(squared_error))\n",
    "        print(train_rmse)\n",
    "        train_rmse_array.append(train_rmse)\n",
    "\n",
    "        # Computing test_rmse\n",
    "        y_holdout = y.loc[y.index[test_index]]\n",
    "        X_test = X.loc[X.index[test_index]]\n",
    "        X_test = sm.add_constant(X_test, prepend=True, has_constant='add')\n",
    "        y_holdout = y.loc[y.index[test_index]]\n",
    "        y_pred = np.sum(X_test * [results[0], *results[1]], axis=1)\n",
    "        squared_error = (y_holdout - y_pred) **2\n",
    "        test_rmse = np.sqrt(np.mean(squared_error))\n",
    "        print(test_rmse)\n",
    "        test_rmse_array.append(test_rmse)\n",
    "        \n",
    "        \n",
    "\n",
    "    avg_train_rmse.append(np.mean(train_rmse_array))\n",
    "    avg_test_rmse.append(np.mean(test_rmse_array))\n",
    "avg_train_rmse, avg_test_rmse"
   ]
  },
  {
   "cell_type": "code",
   "execution_count": 305,
   "metadata": {},
   "outputs": [
    {
     "data": {
      "text/plain": [
       "([2.678616284019916,\n",
       "  2.7567551426630983,\n",
       "  2.8353482222566098,\n",
       "  2.939989225764715,\n",
       "  2.9782349394739405,\n",
       "  3.011178304947651,\n",
       "  3.0403231414719456,\n",
       "  3.066622066984518,\n",
       "  3.112964705574188,\n",
       "  3.2785995092381293,\n",
       "  3.390317524827771,\n",
       "  3.4741713966946386],\n",
       " [4.183507138911039,\n",
       "  4.133872255965031,\n",
       "  4.099907535327512,\n",
       "  4.075888648723352,\n",
       "  4.072058201434264,\n",
       "  4.070829979269497,\n",
       "  4.071133252028767,\n",
       "  4.072880240558877,\n",
       "  4.078437025393707,\n",
       "  4.121180070973233,\n",
       "  4.162934144322807,\n",
       "  4.197829516564599])"
      ]
     },
     "execution_count": 305,
     "metadata": {},
     "output_type": "execute_result"
    }
   ],
   "source": [
    "avg_train_rmse, avg_test_rmse"
   ]
  },
  {
   "cell_type": "code",
   "execution_count": 306,
   "metadata": {},
   "outputs": [
    {
     "name": "stdout",
     "output_type": "stream",
     "text": [
      "The lambda value that minimizes test RMSE is 3\n"
     ]
    },
    {
     "data": {
      "image/png": "[encoded data removed]",
      "text/plain": [
       "<Figure size 432x288 with 1 Axes>"
      ]
     },
     "metadata": {
      "needs_background": "light"
     },
     "output_type": "display_data"
    }
   ],
   "source": [
    "plt.plot(lambda_values, avg_train_rmse, label='Train RMSE')\n",
    "plt.plot(lambda_values, avg_test_rmse, label='Test RMSE')\n",
    "plt.xlabel(\"λ\")\n",
    "plt.ylabel(\"Cross-Validated Average RMSE\")\n",
    "plt.title(\"RMSE as a function of λ\")\n",
    "plt.legend();\n",
    "\n",
    "optimal_lambda = lambda_values[np.argmin(avg_test_rmse)]\n",
    "print(\"The lambda value that minimizes test RMSE is {}\".format(optimal_lambda))"
   ]
  },
  {
   "cell_type": "code",
   "execution_count": 308,
   "metadata": {},
   "outputs": [
    {
     "name": "stdout",
     "output_type": "stream",
     "text": [
      "5.438087958876091\n",
      "5.438087958976074\n",
      "9.99831328840628e-11\n",
      "Cost converges after iteration times: 81842\n",
      "Time taken: 55.28 seconds\n"
     ]
    },
    {
     "data": {
      "text/plain": [
       "4.215658994376192"
      ]
     },
     "execution_count": 308,
     "metadata": {},
     "output_type": "execute_result"
    }
   ],
   "source": [
    "np.random.seed(1443)\n",
    "features = train_set.keys() !='MEDV'\n",
    "X = standardize(train_set.loc[:, features].copy())\n",
    "y = train_set['MEDV'].copy()\n",
    "sample_mean = train_set.loc[:, features].copy().mean()\n",
    "sample_std = train_set.loc[:, features].copy().std()\n",
    "learning_rate = 0.01\n",
    "iterations = 100000\n",
    "results = multivariate_ols_ridge(X, y, learning_rate, iterations, True, optimal_lambda)\n",
    "X_test = (test_set.loc[:, features].copy() - sample_mean) / sample_std\n",
    "X_test = sm.add_constant(X_test, prepend=True, has_constant='add')\n",
    "y_pred = np.sum(X_test * [results[0], *results[1]], axis=1)\n",
    "y_test = test_set['MEDV'].copy()\n",
    "squared_error = (y_test - y_pred)**2\n",
    "test_rmse = np.sqrt(np.mean(squared_error))\n",
    "test_rmse"
   ]
  },
  {
   "cell_type": "markdown",
   "metadata": {
    "id": "fJRo-C3kjl7U"
   },
   "source": [
    "*I ran 5-fold cross validation for lambda values 0.1, 0.5, 1, 2,2.5, 3,3.5, 4,5, 10, 15, and 20. I find that the RMSE values decrease from 0.1 until 3, and then begin to rise. (The actual optimal lambda value is likely somewhere around 3 and not exactly 3, but the algorithm takes a while to run, so I wasn't able to fully optimize it.) The RMSE values for the training set range from 2.67 to 3.47, increasing gradually with lambda. This makes sense becuase we are punishing overfitting with regularization. Running ridge regression wiht a fixed lambda=3 yields a test rmse of 4.156. This is a bit higher than the test RMSE for lambda=3 from cross-validation, which makes sense because we are taking the average of 5 folds, vs. testing our model on the test set. This RMSE value is much lower than the test RMSE from 4.3 (36.089) and 4.2 (47.169), and a bit lower than the RMSE from 2.3 (5.538) and nearest neighbors (6.39).*"
   ]
  },
  {
   "cell_type": "code",
   "execution_count": null,
   "metadata": {},
   "outputs": [],
   "source": []
  }
 ],
 "metadata": {
  "anaconda-cloud": {},
  "colab": {
   "name": "_INFO251-PS4 - 2022_final.ipynb",
   "provenance": []
  },
  "kernelspec": {
   "display_name": "Python 3 (ipykernel)",
   "language": "python",
   "name": "python3"
  },
  "language_info": {
   "codemirror_mode": {
    "name": "ipython",
    "version": 3
   },
   "file_extension": ".py",
   "mimetype": "text/x-python",
   "name": "python",
   "nbconvert_exporter": "python",
   "pygments_lexer": "ipython3",
   "version": "3.9.12"
  }
 },
 "nbformat": 4,
 "nbformat_minor": 4
}
