{
 "cells": [
  {
   "cell_type": "markdown",
   "metadata": {},
   "source": [
    "# Problem Set 2 - Deadline 02/02/2023"
   ]
  },
  {
   "cell_type": "markdown",
   "metadata": {},
   "source": [
    "## Introduction to the assignment\n",
    "\n",
    "For this assignment, you will be using data from the [Progresa program](http://en.wikipedia.org/wiki/Oportunidades), a government social assistance program in Mexico. This program, as well as the details of its impact, are described in the paper \"[School subsidies for the poor: evaluating the Mexican Progresa poverty program](http://www.sciencedirect.com/science/article/pii/S0304387803001858)\", by Paul Shultz (available on bCourses). Please familiarize yourself with the PROGRESA program before beginning this problem set, so you have a rough sense of where the data come from and how they were generated. If you just proceed into the problem set without understanding Progresa or the data, it will be very difficult!\n",
    "\n",
    "The goal of this problem set is to implement some of the basic econometric techniques that you are learning in class to measure the impact of Progresa on secondary school enrollment rates. The timeline of the program was:\n",
    "\n",
    " * Baseline survey conducted in 1997\n",
    " * Intervention begins in 1998, \"Wave 1\" of surveys conducted in 1998\n",
    " * \"Wave 2\" of surveys conducted in 1999\n",
    " * Evaluation ends in 2000, at which point the control villages were treated. \n",
    " \n",
    "When you are ready, download the progresa_sample.csv data from bCourses. The data are actual data collected to evaluate the impact of the Progresa program.  In this file, each row corresponds to an observation taken for a given child for a given year. There are two years of data (1997 and 1998), and just under 40,000 children who are surveyed in each year. For each child-year observation, the following variables are collected:\n",
    "\n",
    "| Variable name | Description|\n",
    "|------|------|\n",
    "|year\t  |year in which data is collected\n",
    "|sex\t  |male = 1|\n",
    "|indig\t  |indigenous = 1|\n",
    "|dist_sec |nearest distance to a secondary school|\n",
    "|sc\t      |enrolled in school in year of survey|\n",
    "|grc      |grade enrolled|\n",
    "|fam_n    |family size|\n",
    "|min_dist |\tmin distance to an urban center|\n",
    "|dist_cap |\tmin distance to the capital|\n",
    "|poor     |\tpoor = 1|\n",
    "|progresa |treatment =1|\n",
    "|hohedu\t  |years of schooling of head of household|\n",
    "|hohwag\t  |monthly wages of head of household|\n",
    "|welfare_index|\twelfare index used to classify poor|\n",
    "|hohsex\t|gender of head of household (male=1)|\n",
    "|hohage\t|age of head of household|\n",
    "|age\t|years old|\n",
    "|folnum\t|individual id|\n",
    "|village|\tvillage id|\n",
    "|sc97\t|schooling in 1997|\n",
    "|grc97  |grade enrolled in 1997"
   ]
  },
  {
   "cell_type": "markdown",
   "metadata": {},
   "source": [
    "---\n",
    "\n",
    "## Part 1: Descriptive analysis\n",
    "\n",
    "### 1.1\tSummary Statistics\n",
    "\n",
    "Present summary statistics (mean, median and standard deviation) for all of the demographic variables in the dataset (i.e., everything except year, folnum, village). Present these in a single table alphabetized by variable name. Do NOT simply expect the grader to scroll through your output!\n",
    "\n",
    "*Note:* For this and subsequent problems, you will need to be careful in how you deal with missing (NULL) values. You should not blindly drop rows and columns where any data field is missing.  For instance, in calculating the average `hohwag`, you should average the `hohwag` values from all households that report a value (even if the household does not have a recorded `age` value, for example). "
   ]
  },
  {
   "cell_type": "code",
   "execution_count": 434,
   "metadata": {
    "jupyter": {
     "outputs_hidden": true
    }
   },
   "outputs": [],
   "source": [
    "# your code here\n",
    "import pandas as pd\n",
    "import numpy as np\n",
    "import scipy as sp\n",
    "from matplotlib import pyplot as plt\n",
    "import sklearn\n",
    "import statsmodels.api as sm\n",
    "import statsmodels.formula.api as smf\n",
    "import scipy.stats as stats\n",
    "df = pd.read_csv('/Users/jaredschober/Documents/GSPP/Spring_2023/INFO251/progresa_sample.csv')"
   ]
  },
  {
   "cell_type": "code",
   "execution_count": 435,
   "metadata": {
    "scrolled": false
   },
   "outputs": [
    {
     "data": {
      "text/html": [
       "<div>\n",
       "<style scoped>\n",
       "    .dataframe tbody tr th:only-of-type {\n",
       "        vertical-align: middle;\n",
       "    }\n",
       "\n",
       "    .dataframe tbody tr th {\n",
       "        vertical-align: top;\n",
       "    }\n",
       "\n",
       "    .dataframe thead th {\n",
       "        text-align: right;\n",
       "    }\n",
       "</style>\n",
       "<table border=\"1\" class=\"dataframe\">\n",
       "  <thead>\n",
       "    <tr style=\"text-align: right;\">\n",
       "      <th></th>\n",
       "      <th>mean</th>\n",
       "      <th>50%</th>\n",
       "      <th>std</th>\n",
       "    </tr>\n",
       "  </thead>\n",
       "  <tbody>\n",
       "    <tr>\n",
       "      <th>age</th>\n",
       "      <td>11.366460</td>\n",
       "      <td>11.000000</td>\n",
       "      <td>3.167744</td>\n",
       "    </tr>\n",
       "    <tr>\n",
       "      <th>dist_cap</th>\n",
       "      <td>147.674452</td>\n",
       "      <td>132.001494</td>\n",
       "      <td>76.063134</td>\n",
       "    </tr>\n",
       "    <tr>\n",
       "      <th>dist_sec</th>\n",
       "      <td>2.418910</td>\n",
       "      <td>2.279000</td>\n",
       "      <td>2.234109</td>\n",
       "    </tr>\n",
       "    <tr>\n",
       "      <th>fam_n</th>\n",
       "      <td>7.215715</td>\n",
       "      <td>7.000000</td>\n",
       "      <td>2.352900</td>\n",
       "    </tr>\n",
       "    <tr>\n",
       "      <th>grc</th>\n",
       "      <td>3.963537</td>\n",
       "      <td>4.000000</td>\n",
       "      <td>2.499063</td>\n",
       "    </tr>\n",
       "    <tr>\n",
       "      <th>grc97</th>\n",
       "      <td>3.705372</td>\n",
       "      <td>4.000000</td>\n",
       "      <td>2.572387</td>\n",
       "    </tr>\n",
       "    <tr>\n",
       "      <th>hohage</th>\n",
       "      <td>44.436717</td>\n",
       "      <td>43.000000</td>\n",
       "      <td>11.620372</td>\n",
       "    </tr>\n",
       "    <tr>\n",
       "      <th>hohedu</th>\n",
       "      <td>2.768104</td>\n",
       "      <td>2.000000</td>\n",
       "      <td>2.656106</td>\n",
       "    </tr>\n",
       "    <tr>\n",
       "      <th>hohsex</th>\n",
       "      <td>0.925185</td>\n",
       "      <td>1.000000</td>\n",
       "      <td>0.263095</td>\n",
       "    </tr>\n",
       "    <tr>\n",
       "      <th>hohwag</th>\n",
       "      <td>586.985312</td>\n",
       "      <td>500.000000</td>\n",
       "      <td>788.133664</td>\n",
       "    </tr>\n",
       "    <tr>\n",
       "      <th>indig</th>\n",
       "      <td>0.298324</td>\n",
       "      <td>0.000000</td>\n",
       "      <td>0.457525</td>\n",
       "    </tr>\n",
       "    <tr>\n",
       "      <th>min_dist</th>\n",
       "      <td>103.447520</td>\n",
       "      <td>111.228612</td>\n",
       "      <td>42.089441</td>\n",
       "    </tr>\n",
       "    <tr>\n",
       "      <th>poor</th>\n",
       "      <td>0.846498</td>\n",
       "      <td>1.000000</td>\n",
       "      <td>0.360473</td>\n",
       "    </tr>\n",
       "    <tr>\n",
       "      <th>progresa</th>\n",
       "      <td>0.615663</td>\n",
       "      <td>1.000000</td>\n",
       "      <td>0.486441</td>\n",
       "    </tr>\n",
       "    <tr>\n",
       "      <th>sc</th>\n",
       "      <td>0.819818</td>\n",
       "      <td>1.000000</td>\n",
       "      <td>0.384342</td>\n",
       "    </tr>\n",
       "    <tr>\n",
       "      <th>sc97</th>\n",
       "      <td>0.813922</td>\n",
       "      <td>1.000000</td>\n",
       "      <td>0.389172</td>\n",
       "    </tr>\n",
       "    <tr>\n",
       "      <th>sex</th>\n",
       "      <td>0.512211</td>\n",
       "      <td>1.000000</td>\n",
       "      <td>0.499854</td>\n",
       "    </tr>\n",
       "    <tr>\n",
       "      <th>welfare_index</th>\n",
       "      <td>690.346564</td>\n",
       "      <td>685.000000</td>\n",
       "      <td>139.491130</td>\n",
       "    </tr>\n",
       "  </tbody>\n",
       "</table>\n",
       "</div>"
      ],
      "text/plain": [
       "                     mean         50%         std\n",
       "age             11.366460   11.000000    3.167744\n",
       "dist_cap       147.674452  132.001494   76.063134\n",
       "dist_sec         2.418910    2.279000    2.234109\n",
       "fam_n            7.215715    7.000000    2.352900\n",
       "grc              3.963537    4.000000    2.499063\n",
       "grc97            3.705372    4.000000    2.572387\n",
       "hohage          44.436717   43.000000   11.620372\n",
       "hohedu           2.768104    2.000000    2.656106\n",
       "hohsex           0.925185    1.000000    0.263095\n",
       "hohwag         586.985312  500.000000  788.133664\n",
       "indig            0.298324    0.000000    0.457525\n",
       "min_dist       103.447520  111.228612   42.089441\n",
       "poor             0.846498    1.000000    0.360473\n",
       "progresa         0.615663    1.000000    0.486441\n",
       "sc               0.819818    1.000000    0.384342\n",
       "sc97             0.813922    1.000000    0.389172\n",
       "sex              0.512211    1.000000    0.499854\n",
       "welfare_index  690.346564  685.000000  139.491130"
      ]
     },
     "execution_count": 435,
     "metadata": {},
     "output_type": "execute_result"
    }
   ],
   "source": [
    "df = df.reindex(sorted(df.columns), axis=1)\n",
    "\n",
    "# Creating dummy variables for poor and progresa so they can be included in the table\n",
    "df['poor'] = (df['poor']=='pobre').astype(int)\n",
    "df['progresa'] = (df['progresa']=='basal').astype(int)\n",
    "\n",
    "# Dropping year, folnum and village\n",
    "table = df.loc[:,['age', 'dist_cap', 'dist_sec', 'fam_n', 'grc', 'grc97',\n",
    "       'hohage', 'hohedu', 'hohsex', 'hohwag', 'indig', 'min_dist', 'poor',\n",
    "       'progresa', 'sc', 'sc97', 'sex', 'welfare_index']]\n",
    "\n",
    "table.describe().T.loc[:,['mean','50%', 'std']]"
   ]
  },
  {
   "cell_type": "markdown",
   "metadata": {},
   "source": [
    "### 1.2 Differences at baseline?\n",
    "\n",
    "Are the baseline (1997) demographic characteristics **for the poor**  different in treatment and control villages?  Present your results in a single table with the following columns and 14 (or so) rows (alphabetized by variable name):\n",
    "\n",
    "\n",
    "| Variable name | Average value (Treatment villages) | Average value (Control villages) | Difference (Treat - Control) | p-value |\n",
    "|------|------|------|------|------|\n",
    "|Male|?|?|?|?|\n",
    "\n",
    " *Hint:* Use a T-Test to determine whether there is a statistically significant difference in the average values of each of the variables in the dataset. Focus only on the data from 1997 from poor households (i.e., poor=='pobre'). \n",
    " \n",
    "For this question and subsequent questions, you can use either Welch's t-test or Student's t-test. Please specify in one sentence why you chose the particular t-test.\n"
   ]
  },
  {
   "cell_type": "code",
   "execution_count": 419,
   "metadata": {
    "jupyter": {
     "outputs_hidden": true
    },
    "scrolled": false
   },
   "outputs": [
    {
     "data": {
      "text/html": [
       "<div>\n",
       "<style scoped>\n",
       "    .dataframe tbody tr th:only-of-type {\n",
       "        vertical-align: middle;\n",
       "    }\n",
       "\n",
       "    .dataframe tbody tr th {\n",
       "        vertical-align: top;\n",
       "    }\n",
       "\n",
       "    .dataframe thead th {\n",
       "        text-align: right;\n",
       "    }\n",
       "</style>\n",
       "<table border=\"1\" class=\"dataframe\">\n",
       "  <thead>\n",
       "    <tr style=\"text-align: right;\">\n",
       "      <th></th>\n",
       "      <th>Variable name</th>\n",
       "      <th>Average value (Treatment villages)</th>\n",
       "      <th>Average value (Control villages)</th>\n",
       "      <th>Difference (Treat - Control)</th>\n",
       "      <th>p-value</th>\n",
       "    </tr>\n",
       "  </thead>\n",
       "  <tbody>\n",
       "    <tr>\n",
       "      <th>0</th>\n",
       "      <td>age</td>\n",
       "      <td>10.7170</td>\n",
       "      <td>10.7420</td>\n",
       "      <td>-0.0250</td>\n",
       "      <td>0.4784</td>\n",
       "    </tr>\n",
       "    <tr>\n",
       "      <th>1</th>\n",
       "      <td>dist_cap</td>\n",
       "      <td>150.8291</td>\n",
       "      <td>153.7697</td>\n",
       "      <td>-2.9407</td>\n",
       "      <td>0.0011</td>\n",
       "    </tr>\n",
       "    <tr>\n",
       "      <th>2</th>\n",
       "      <td>dist_sec</td>\n",
       "      <td>2.4531</td>\n",
       "      <td>2.5077</td>\n",
       "      <td>-0.0545</td>\n",
       "      <td>0.0427</td>\n",
       "    </tr>\n",
       "    <tr>\n",
       "      <th>3</th>\n",
       "      <td>fam_n</td>\n",
       "      <td>7.2813</td>\n",
       "      <td>7.3025</td>\n",
       "      <td>-0.0211</td>\n",
       "      <td>0.4290</td>\n",
       "    </tr>\n",
       "    <tr>\n",
       "      <th>4</th>\n",
       "      <td>folnum</td>\n",
       "      <td>19321.1682</td>\n",
       "      <td>19272.8443</td>\n",
       "      <td>48.3239</td>\n",
       "      <td>0.7053</td>\n",
       "    </tr>\n",
       "    <tr>\n",
       "      <th>5</th>\n",
       "      <td>grc</td>\n",
       "      <td>3.5316</td>\n",
       "      <td>3.5430</td>\n",
       "      <td>-0.0115</td>\n",
       "      <td>0.6895</td>\n",
       "    </tr>\n",
       "    <tr>\n",
       "      <th>6</th>\n",
       "      <td>grc97</td>\n",
       "      <td>3.5316</td>\n",
       "      <td>3.5430</td>\n",
       "      <td>-0.0115</td>\n",
       "      <td>0.6895</td>\n",
       "    </tr>\n",
       "    <tr>\n",
       "      <th>7</th>\n",
       "      <td>hohage</td>\n",
       "      <td>43.6488</td>\n",
       "      <td>44.2769</td>\n",
       "      <td>-0.6281</td>\n",
       "      <td>0.0000</td>\n",
       "    </tr>\n",
       "    <tr>\n",
       "      <th>8</th>\n",
       "      <td>hohedu</td>\n",
       "      <td>2.6631</td>\n",
       "      <td>2.5903</td>\n",
       "      <td>0.0728</td>\n",
       "      <td>0.0104</td>\n",
       "    </tr>\n",
       "    <tr>\n",
       "      <th>9</th>\n",
       "      <td>hohsex</td>\n",
       "      <td>0.9247</td>\n",
       "      <td>0.9229</td>\n",
       "      <td>0.0017</td>\n",
       "      <td>0.5721</td>\n",
       "    </tr>\n",
       "    <tr>\n",
       "      <th>10</th>\n",
       "      <td>hohwag</td>\n",
       "      <td>544.3395</td>\n",
       "      <td>573.1636</td>\n",
       "      <td>-28.8240</td>\n",
       "      <td>0.0003</td>\n",
       "    </tr>\n",
       "    <tr>\n",
       "      <th>11</th>\n",
       "      <td>indig</td>\n",
       "      <td>0.3260</td>\n",
       "      <td>0.3322</td>\n",
       "      <td>-0.0062</td>\n",
       "      <td>0.2459</td>\n",
       "    </tr>\n",
       "    <tr>\n",
       "      <th>12</th>\n",
       "      <td>min_dist</td>\n",
       "      <td>107.1529</td>\n",
       "      <td>103.2379</td>\n",
       "      <td>3.9151</td>\n",
       "      <td>0.0000</td>\n",
       "    </tr>\n",
       "    <tr>\n",
       "      <th>14</th>\n",
       "      <td>sc</td>\n",
       "      <td>0.8227</td>\n",
       "      <td>0.8152</td>\n",
       "      <td>0.0075</td>\n",
       "      <td>0.0965</td>\n",
       "    </tr>\n",
       "    <tr>\n",
       "      <th>15</th>\n",
       "      <td>sc97</td>\n",
       "      <td>0.8227</td>\n",
       "      <td>0.8152</td>\n",
       "      <td>0.0075</td>\n",
       "      <td>0.0965</td>\n",
       "    </tr>\n",
       "    <tr>\n",
       "      <th>16</th>\n",
       "      <td>sex</td>\n",
       "      <td>0.5193</td>\n",
       "      <td>0.5051</td>\n",
       "      <td>0.0143</td>\n",
       "      <td>0.0122</td>\n",
       "    </tr>\n",
       "    <tr>\n",
       "      <th>17</th>\n",
       "      <td>village</td>\n",
       "      <td>233.7950</td>\n",
       "      <td>286.3632</td>\n",
       "      <td>-52.5681</td>\n",
       "      <td>0.0000</td>\n",
       "    </tr>\n",
       "    <tr>\n",
       "      <th>18</th>\n",
       "      <td>welfare_index</td>\n",
       "      <td>655.4284</td>\n",
       "      <td>659.5791</td>\n",
       "      <td>-4.1507</td>\n",
       "      <td>0.0015</td>\n",
       "    </tr>\n",
       "  </tbody>\n",
       "</table>\n",
       "</div>"
      ],
      "text/plain": [
       "    Variable name  Average value (Treatment villages)  \\\n",
       "0             age                             10.7170   \n",
       "1        dist_cap                            150.8291   \n",
       "2        dist_sec                              2.4531   \n",
       "3           fam_n                              7.2813   \n",
       "4          folnum                          19321.1682   \n",
       "5             grc                              3.5316   \n",
       "6           grc97                              3.5316   \n",
       "7          hohage                             43.6488   \n",
       "8          hohedu                              2.6631   \n",
       "9          hohsex                              0.9247   \n",
       "10         hohwag                            544.3395   \n",
       "11          indig                              0.3260   \n",
       "12       min_dist                            107.1529   \n",
       "14             sc                              0.8227   \n",
       "15           sc97                              0.8227   \n",
       "16            sex                              0.5193   \n",
       "17        village                            233.7950   \n",
       "18  welfare_index                            655.4284   \n",
       "\n",
       "    Average value (Control villages)  Difference (Treat - Control)  p-value  \n",
       "0                            10.7420                       -0.0250   0.4784  \n",
       "1                           153.7697                       -2.9407   0.0011  \n",
       "2                             2.5077                       -0.0545   0.0427  \n",
       "3                             7.3025                       -0.0211   0.4290  \n",
       "4                         19272.8443                       48.3239   0.7053  \n",
       "5                             3.5430                       -0.0115   0.6895  \n",
       "6                             3.5430                       -0.0115   0.6895  \n",
       "7                            44.2769                       -0.6281   0.0000  \n",
       "8                             2.5903                        0.0728   0.0104  \n",
       "9                             0.9229                        0.0017   0.5721  \n",
       "10                          573.1636                      -28.8240   0.0003  \n",
       "11                            0.3322                       -0.0062   0.2459  \n",
       "12                          103.2379                        3.9151   0.0000  \n",
       "14                            0.8152                        0.0075   0.0965  \n",
       "15                            0.8152                        0.0075   0.0965  \n",
       "16                            0.5051                        0.0143   0.0122  \n",
       "17                          286.3632                      -52.5681   0.0000  \n",
       "18                          659.5791                       -4.1507   0.0015  "
      ]
     },
     "execution_count": 419,
     "metadata": {},
     "output_type": "execute_result"
    }
   ],
   "source": [
    "# your code here\n",
    "\n",
    "# Filtering all years besides 97\n",
    "baseline_df = df[df['year']==97]\n",
    "\n",
    "# Only looking at data from poor households\n",
    "baseline_df = baseline_df[baseline_df['poor']==1]\n",
    "baseline_df = baseline_df.drop(['year', 'poor'], axis=1)\n",
    "treatment = baseline_df[baseline_df['progresa']==1]\n",
    "control = baseline_df[baseline_df['progresa']==0]\n",
    "\n",
    "# Creating results table\n",
    "results = baseline_df.columns.to_frame()\n",
    "results = results.drop(labels=0, axis=1)\n",
    "results['Average value (Treatment villages)'] = treatment.mean()\n",
    "results['Average value (Control villages)'] = control.mean()\n",
    "results['Difference (Treat - Control)'] = treatment.mean() - control.mean()\n",
    "results['p-value'] = sp.stats.ttest_ind(treatment, control, equal_var=False, nan_policy='omit')[1]\n",
    "results = results.reset_index().rename(columns={'index':'Variable name'}).dropna()\n",
    "results = round(results,4)\n",
    "results"
   ]
  },
  {
   "cell_type": "code",
   "execution_count": 420,
   "metadata": {},
   "outputs": [
    {
     "data": {
      "text/plain": [
       "0     False\n",
       "1      True\n",
       "2      True\n",
       "3     False\n",
       "4     False\n",
       "5     False\n",
       "6     False\n",
       "7      True\n",
       "8      True\n",
       "9     False\n",
       "10     True\n",
       "11    False\n",
       "12     True\n",
       "14    False\n",
       "15    False\n",
       "16     True\n",
       "17     True\n",
       "18     True\n",
       "Name: p-value, dtype: bool"
      ]
     },
     "execution_count": 420,
     "metadata": {},
     "output_type": "execute_result"
    }
   ],
   "source": [
    "results['p-value']<.05"
   ]
  },
  {
   "cell_type": "markdown",
   "metadata": {},
   "source": [
    "The table above shows that about half of the p-values are statistically significant at the p<0.05 critical value, while about half are not. This indicates a statistically signficiant difference in means for about half of the variables, in particular those related to place (e.g. distance to the capital or a secondary school), household (e.g. head of household wage, age, education, indigenous status), and school enrollment (e.g. sc, sc97). These differences are important because it shows that there are differences between treatment and control groups, which puts at risk our identifying assumption for a randomized experiment."
   ]
  },
  {
   "cell_type": "markdown",
   "metadata": {},
   "source": [
    "### Student's t-test or Welch's t-test\n",
    "I used Welch's t-test for unequal variances because I think it's the more conservative estimate based on the Progresa program. It's not clear to me whether much care was taken into random assignment of treatment vs. control by the Mexican authorities. Also, even if the variances are equal, Welch's t-test should yield a similar answer to student's t-test. Below, I present the results of a simple difference in variances. Some variables have equal variance and others don't, which is also part of why I chose to use Welch's t-test."
   ]
  },
  {
   "cell_type": "code",
   "execution_count": 439,
   "metadata": {},
   "outputs": [
    {
     "data": {
      "text/html": [
       "<div>\n",
       "<style scoped>\n",
       "    .dataframe tbody tr th:only-of-type {\n",
       "        vertical-align: middle;\n",
       "    }\n",
       "\n",
       "    .dataframe tbody tr th {\n",
       "        vertical-align: top;\n",
       "    }\n",
       "\n",
       "    .dataframe thead th {\n",
       "        text-align: right;\n",
       "    }\n",
       "</style>\n",
       "<table border=\"1\" class=\"dataframe\">\n",
       "  <thead>\n",
       "    <tr style=\"text-align: right;\">\n",
       "      <th></th>\n",
       "      <th>Difference in variances</th>\n",
       "    </tr>\n",
       "  </thead>\n",
       "  <tbody>\n",
       "    <tr>\n",
       "      <th>age</th>\n",
       "      <td>3.642382e-02</td>\n",
       "    </tr>\n",
       "    <tr>\n",
       "      <th>dist_cap</th>\n",
       "      <td>-1.366121e+03</td>\n",
       "    </tr>\n",
       "    <tr>\n",
       "      <th>dist_sec</th>\n",
       "      <td>-1.616718e+00</td>\n",
       "    </tr>\n",
       "    <tr>\n",
       "      <th>fam_n</th>\n",
       "      <td>-1.866859e-01</td>\n",
       "    </tr>\n",
       "    <tr>\n",
       "      <th>folnum</th>\n",
       "      <td>-8.022733e+06</td>\n",
       "    </tr>\n",
       "    <tr>\n",
       "      <th>grc</th>\n",
       "      <td>-9.193133e-02</td>\n",
       "    </tr>\n",
       "    <tr>\n",
       "      <th>grc97</th>\n",
       "      <td>-9.193133e-02</td>\n",
       "    </tr>\n",
       "    <tr>\n",
       "      <th>hohage</th>\n",
       "      <td>-1.104694e+01</td>\n",
       "    </tr>\n",
       "    <tr>\n",
       "      <th>hohedu</th>\n",
       "      <td>4.521093e-01</td>\n",
       "    </tr>\n",
       "    <tr>\n",
       "      <th>hohsex</th>\n",
       "      <td>-1.450621e-03</td>\n",
       "    </tr>\n",
       "    <tr>\n",
       "      <th>hohwag</th>\n",
       "      <td>-2.999964e+03</td>\n",
       "    </tr>\n",
       "    <tr>\n",
       "      <th>indig</th>\n",
       "      <td>-2.133648e-03</td>\n",
       "    </tr>\n",
       "    <tr>\n",
       "      <th>min_dist</th>\n",
       "      <td>-2.436676e+02</td>\n",
       "    </tr>\n",
       "    <tr>\n",
       "      <th>progresa</th>\n",
       "      <td>0.000000e+00</td>\n",
       "    </tr>\n",
       "    <tr>\n",
       "      <th>sc</th>\n",
       "      <td>-4.796243e-03</td>\n",
       "    </tr>\n",
       "    <tr>\n",
       "      <th>sc97</th>\n",
       "      <td>-4.796243e-03</td>\n",
       "    </tr>\n",
       "    <tr>\n",
       "      <th>sex</th>\n",
       "      <td>-3.553341e-04</td>\n",
       "    </tr>\n",
       "    <tr>\n",
       "      <th>village</th>\n",
       "      <td>7.232948e+02</td>\n",
       "    </tr>\n",
       "    <tr>\n",
       "      <th>welfare_index</th>\n",
       "      <td>-6.761541e+02</td>\n",
       "    </tr>\n",
       "  </tbody>\n",
       "</table>\n",
       "</div>"
      ],
      "text/plain": [
       "               Difference in variances\n",
       "age                       3.642382e-02\n",
       "dist_cap                 -1.366121e+03\n",
       "dist_sec                 -1.616718e+00\n",
       "fam_n                    -1.866859e-01\n",
       "folnum                   -8.022733e+06\n",
       "grc                      -9.193133e-02\n",
       "grc97                    -9.193133e-02\n",
       "hohage                   -1.104694e+01\n",
       "hohedu                    4.521093e-01\n",
       "hohsex                   -1.450621e-03\n",
       "hohwag                   -2.999964e+03\n",
       "indig                    -2.133648e-03\n",
       "min_dist                 -2.436676e+02\n",
       "progresa                  0.000000e+00\n",
       "sc                       -4.796243e-03\n",
       "sc97                     -4.796243e-03\n",
       "sex                      -3.553341e-04\n",
       "village                   7.232948e+02\n",
       "welfare_index            -6.761541e+02"
      ]
     },
     "execution_count": 439,
     "metadata": {},
     "output_type": "execute_result"
    }
   ],
   "source": [
    "(baseline_df[baseline_df['progresa']==1].var() - baseline_df[baseline_df['progresa']==0].var())\\\n",
    ".to_frame().rename(columns={0:'Difference in variances'})"
   ]
  },
  {
   "cell_type": "markdown",
   "metadata": {},
   "source": [
    "### 1.3 Interpretation\n",
    "\n",
    "* A: Are there statistically significant differences between treatment and control villages at baseline? \n",
    "* B: Why does it matter if there are differences at baseline?\n",
    "* C: What does this imply about how to measure the impact of the treatment?"
   ]
  },
  {
   "cell_type": "markdown",
   "metadata": {},
   "source": [
    "*Discuss your results here*\n",
    "\n",
    "* A: There are statistically significant differences between treatment and control villages at baseline for some (rather important) variables, including: Distance to the Capital, Head of Household age, education, and wages, minimum distance to an urban center, sex of the child, and welfare index.\n",
    "* B: It matters if there are differences at baseline because our identifying assumption is that both groups are basically the same, and the control group can serve as a valid counterfactual for the world in which there was no treatment.\n",
    "* C: Since there are statistically signficiant differences between treatment and control villages at baseline, it means we cannot attribute any observed differences in means after treatment solely to the intervention. There were differences at baseline, so there are outside factors influencing our results."
   ]
  },
  {
   "cell_type": "markdown",
   "metadata": {},
   "source": [
    "### 1.4 Graphical exploration, part 1\n",
    "\n",
    "Visualize the distribution of village enrollment rates **among poor households in treated villages**, before and after treatment. Specifically, for each village, calculate the average rate of enrollment of poor households in treated villages in 1997, then compute the average rate of enrollment of poor households in treated villages in 1998. Create two separate histograms showing the distribution of these average enrollments rates, one histogram for 1997 and one histogram for 1998. On each histogram, draw a vertical line that intersects the x-axis at the average value (across all households). Does there appear to be a difference? Is this difference statistically significant?"
   ]
  },
  {
   "cell_type": "code",
   "execution_count": 421,
   "metadata": {
    "jupyter": {
     "outputs_hidden": true
    }
   },
   "outputs": [
    {
     "data": {
      "image/png": "[encoded data removed]",
      "text/plain": [
       "<Figure size 864x432 with 2 Axes>"
      ]
     },
     "metadata": {
      "needs_background": "light"
     },
     "output_type": "display_data"
    }
   ],
   "source": [
    "# Your code here\n",
    "graph = df[df['poor']==1]\n",
    "graph = graph[graph['progresa']==1]\n",
    "fig, ax = plt.subplots(1,2, figsize=(12,6))\n",
    "ax[0].hist(graph[graph['year']==97].groupby('village').mean()['sc'])\n",
    "ax[1].hist(graph[graph['year']==98].groupby('village').mean()['sc'])\n",
    "plt.suptitle(\"Enrollment rates among poor houses in treated villages\")\n",
    "ax[0].set_xlabel(\"1997\")\n",
    "ax[0].set_title(\"Pre-treatment\")\n",
    "ax[1].set_xlabel(\"1998\")\n",
    "ax[1].set_title(\"Post-treatment\")\n",
    "fig.supylabel(\"Number of villages\")\n",
    "fig.supxlabel(\"Village proportion of children enrolled in school\")\n",
    "ax[0].vlines(graph[graph['year']==97].mean()['sc'], 0,100, colors='red') # Need to adjust 0.8 to actual mean\n",
    "ax[1].vlines(graph[graph['year']==98].mean()['sc'], 0,100, colors='red') # Need to adjust 0.8 to actual mean\n",
    "plt.tight_layout();"
   ]
  },
  {
   "cell_type": "code",
   "execution_count": 440,
   "metadata": {},
   "outputs": [
    {
     "data": {
      "text/plain": [
       "1.2976490728161e-09"
      ]
     },
     "execution_count": 440,
     "metadata": {},
     "output_type": "execute_result"
    }
   ],
   "source": [
    "# T-test to see if mean difference is statistically significant\n",
    "sp.stats.ttest_ind(graph[graph['year']==97]['sc'].dropna(), graph[graph['year']==98]['sc'].dropna(), equal_var=True).pvalue"
   ]
  },
  {
   "cell_type": "markdown",
   "metadata": {},
   "source": [
    "*From the histograms, it does appear that more villages moved to the right (e.g. enrolled a higher proportion of their schoolage children in schools) in 1998 compared to 1997. Furthermore, it appears that the average proportion of enrolled students moved from the low-80's to the mid-80's. Also, a t-test of mean difference in school enrollment among treated villages in 1997 and 1998 yields a p-value of 1.297e-09, which is much lower than the critical value of p<0.05. Therefore, we can conclude that there was a statistically signficiant difference in school enrollment in 1998 compared to 1997 among treated villages.*\n"
   ]
  },
  {
   "cell_type": "markdown",
   "metadata": {},
   "source": [
    "### 1.5 Graphical exploration, part 2\n",
    "\n",
    "Repeat the above exercise for poor households in **control villages**, before and after treatment. Do you observe a difference in enrollment in control villages between 1997 and 1998? How does what you observe here affect how you might approach measuring the impact of PROGRESA?"
   ]
  },
  {
   "cell_type": "code",
   "execution_count": 325,
   "metadata": {
    "jupyter": {
     "outputs_hidden": true
    }
   },
   "outputs": [
    {
     "data": {
      "image/png": "[encoded data removed]",
      "text/plain": [
       "<Figure size 864x432 with 2 Axes>"
      ]
     },
     "metadata": {
      "needs_background": "light"
     },
     "output_type": "display_data"
    }
   ],
   "source": [
    "# Your code here\n",
    "graph = df[df['poor']==1]\n",
    "graph = graph[graph['progresa']==0]\n",
    "fig, ax = plt.subplots(1,2, figsize=(12,6))\n",
    "ax[0].hist(graph[graph['year']==97].groupby('village').mean()['sc'])\n",
    "ax[1].hist(graph[graph['year']==98].groupby('village').mean()['sc'])\n",
    "plt.suptitle(\"Enrollment rates among poor houses in control villages\")\n",
    "ax[0].set_xlabel(\"1997\")\n",
    "ax[1].set_xlabel(\"1998\")\n",
    "fig.supylabel(\"Number of villages\")\n",
    "fig.supxlabel(\"Village proportion of children enrolled in school\")\n",
    "ax[0].vlines(graph[graph['year']==97].mean()['sc'], 0,50, colors='red') # Need to adjust 0.8 to actual mean\n",
    "ax[1].vlines(graph[graph['year']==98].mean()['sc'], 0,50, colors='red') # Need to adjust 0.8 to actual mean\n",
    "plt.tight_layout();"
   ]
  },
  {
   "cell_type": "code",
   "execution_count": 326,
   "metadata": {},
   "outputs": [
    {
     "data": {
      "text/plain": [
       "0.1511345297015608"
      ]
     },
     "execution_count": 326,
     "metadata": {},
     "output_type": "execute_result"
    }
   ],
   "source": [
    "# T-test to see if mean difference is statistically significant\n",
    "sp.stats.ttest_ind(graph[graph['year']==97]['sc'].dropna(), graph[graph['year']==98]['sc'].dropna(), equal_var=True)[1]"
   ]
  },
  {
   "cell_type": "markdown",
   "metadata": {},
   "source": [
    "*For control villages, there is essentially no difference between 1997 and 1998 enrollment rates, and the p-value from a t-test for difference in means is 0.15, which is above the critical value. Therefore, we cannot conlude that there is a statistically significant difference from 1997 to 1998. This makes sense, because these villages were not included in the program.*"
   ]
  },
  {
   "cell_type": "markdown",
   "metadata": {},
   "source": [
    "## Part 2: Measuring Impact\n",
    "\n",
    "Our goal is to estimate the causal impact of the PROGRESA program on the social and economic outcomes of individuals in Mexico. We will focus on the impact of the program on school enrollment rates among the poor (those with poor=='pobre'), since only the poor were eligible to receive PROGRESA assistance, and since a primary objective of the program was to increase school enrollment.\n",
    "\n",
    "### 2.1 Simple differences: T-test\n",
    "\n",
    "Begin by estimating the impact of Progresa using \"simple differences.\" Restricting yourself to data from 1998 (after treatment), calculate the average enrollment rate among **poor** households in the Treatment villages and the average enrollment rate among **poor** households in the control villages. Use a t-test to determine if this difference is statistically significant. What do you conclude?\n",
    "\n",
    "For this question and subsequent questions, you can use either Welch's t-test or Student's t-test. Please specify in one sentence why you chose the particular t-test."
   ]
  },
  {
   "cell_type": "code",
   "execution_count": 441,
   "metadata": {
    "jupyter": {
     "outputs_hidden": true
    }
   },
   "outputs": [
    {
     "name": "stdout",
     "output_type": "stream",
     "text": [
      "0.8464791213954308\n",
      "0.807636956730308\n",
      "0.0388421646651228\n"
     ]
    },
    {
     "data": {
      "text/plain": [
       "2.9655072988948406e-16"
      ]
     },
     "execution_count": 441,
     "metadata": {},
     "output_type": "execute_result"
    }
   ],
   "source": [
    "# Your code here\n",
    "post = df[df['year']==98].copy()\n",
    "post = post[post['poor']==1]\n",
    "treatment = post[post['progresa']==1]\n",
    "control = post[post['progresa']==0]\n",
    "print(treatment['sc'].mean())\n",
    "print(control['sc'].mean())\n",
    "print(treatment['sc'].mean() - control['sc'].mean())\n",
    "sp.stats.ttest_ind(treatment['sc'].dropna(), control['sc'].dropna(), equal_var=False).pvalue"
   ]
  },
  {
   "cell_type": "markdown",
   "metadata": {},
   "source": [
    "*I found that the treatment group in 1998 had an average enrollment rate of ~84.7%, while the control group in 1998 had an average enrollment rate of ~80.8%, for a total difference of 3.88 percentage points. I conducted a Welch's t-test with unequal variances since I found in part 1 differential baseline characteristics among the treatment and control groups. I found a p-value of well below 0.05, meaning we reject the null hypothesis of no statistically signficiant difference (i.e. the difference of almost 3.9 percentage points is statistically significant).*"
   ]
  },
  {
   "cell_type": "markdown",
   "metadata": {},
   "source": [
    "### 2.2 Simple differences: Regression\n",
    "\n",
    "Estimate the effects of Progresa on enrollment using a regression model, by regressing the 1998 enrollment rates **of the poor** on treatment assignment. For now, do not include any other variables in your regression. Discuss the following:\n",
    "\n",
    "* Based on this model, how much did Progresa increase or decrease the likelihood of a child enrolling? Make sure you express you answer in a sentence that your grandmother could understand, using appropriate units.\n",
    "* How does your regression estimate compare to your t-test estimate from part 2.1?\n",
    "* Based on this regression model, can we reject the null hypothesis that the treatment effects are zero? \n",
    "* What is the counterfactual assumption underlying this regression?"
   ]
  },
  {
   "cell_type": "code",
   "execution_count": 442,
   "metadata": {
    "jupyter": {
     "outputs_hidden": true
    }
   },
   "outputs": [
    {
     "name": "stdout",
     "output_type": "stream",
     "text": [
      "                            OLS Regression Results                            \n",
      "==============================================================================\n",
      "Dep. Variable:                     sc   R-squared:                       0.003\n",
      "Model:                            OLS   Adj. R-squared:                  0.003\n",
      "Method:                 Least Squares   F-statistic:                     69.87\n",
      "Date:                Mon, 06 Feb 2023   Prob (F-statistic):           6.64e-17\n",
      "Time:                        09:04:44   Log-Likelihood:                -11926.\n",
      "No. Observations:               27450   AIC:                         2.386e+04\n",
      "Df Residuals:                   27448   BIC:                         2.387e+04\n",
      "Df Model:                           1                                         \n",
      "Covariance Type:            nonrobust                                         \n",
      "==============================================================================\n",
      "                 coef    std err          t      P>|t|      [0.025      0.975]\n",
      "------------------------------------------------------------------------------\n",
      "Intercept      0.8076      0.004    220.676      0.000       0.800       0.815\n",
      "progresa       0.0388      0.005      8.359      0.000       0.030       0.048\n",
      "==============================================================================\n",
      "Omnibus:                     7638.939   Durbin-Watson:                   1.734\n",
      "Prob(Omnibus):                  0.000   Jarque-Bera (JB):            15767.534\n",
      "Skew:                          -1.767   Prob(JB):                         0.00\n",
      "Kurtosis:                       4.140   Cond. No.                         3.01\n",
      "==============================================================================\n",
      "\n",
      "Notes:\n",
      "[1] Standard Errors assume that the covariance matrix of the errors is correctly specified.\n"
     ]
    }
   ],
   "source": [
    "# Your code here\n",
    "model = smf.ols(formula='sc ~ progresa', data=post).fit() # Automatically includes the intercept term\n",
    "print(model.summary())"
   ]
  },
  {
   "cell_type": "markdown",
   "metadata": {},
   "source": [
    "*Based on this model, I believe the Progresa program is associated with a 3.88 percentage point increase in school enrollment among children in a treatment village. This is the same effect we found with our t-test of differences in means in part 2.1. Based on this model, we can reject the null hypothesis that the treatment effects are zero, because our t-value of 8.359 for the effect of progresa on enrollment corresponds to a p-value of almost 0 - far less than the critical value of p<0.05. The counterfactual assumption underlying this regression is that the control group is a good model for the state of the world where the treatment group received no treatment.*"
   ]
  },
  {
   "cell_type": "markdown",
   "metadata": {},
   "source": [
    "### 2.3 Multiple Regression\n",
    "\n",
    "Re-run the above regression, but this time include a set of control variables. Include, for instance, age, distance to a secondary school, gender, education of household head, welfare index, indigenous, etc.\n",
    "\n",
    "* How do the controls affect the point estimate of treatment effect?\n",
    "* How do the controls affect the standard error on the treatment effect? \n",
    "* How do you interpret the differences (or similarities) between your estimates of 2.2 and 2.3?\n",
    "* Interpet the coefficient associated with the `dist_sec` variable. Is this evidence that the household's distance from a secondary school has a *causal* impact on educational attainment?"
   ]
  },
  {
   "cell_type": "code",
   "execution_count": 335,
   "metadata": {
    "jupyter": {
     "outputs_hidden": true
    }
   },
   "outputs": [
    {
     "name": "stdout",
     "output_type": "stream",
     "text": [
      "                            OLS Regression Results                            \n",
      "==============================================================================\n",
      "Dep. Variable:                     sc   R-squared:                       0.267\n",
      "Model:                            OLS   Adj. R-squared:                  0.267\n",
      "Method:                 Least Squares   F-statistic:                     1419.\n",
      "Date:                Wed, 01 Feb 2023   Prob (F-statistic):               0.00\n",
      "Time:                        14:07:33   Log-Likelihood:                -7639.4\n",
      "No. Observations:               27267   AIC:                         1.529e+04\n",
      "Df Residuals:                   27259   BIC:                         1.536e+04\n",
      "Df Model:                           7                                         \n",
      "Covariance Type:            nonrobust                                         \n",
      "=================================================================================\n",
      "                    coef    std err          t      P>|t|      [0.025      0.975]\n",
      "---------------------------------------------------------------------------------\n",
      "Intercept         1.5025      0.014    105.342      0.000       1.475       1.530\n",
      "progresa          0.0352      0.004      8.799      0.000       0.027       0.043\n",
      "age              -0.0655      0.001    -95.105      0.000      -0.067      -0.064\n",
      "dist_sec         -0.0117      0.001    -13.361      0.000      -0.013      -0.010\n",
      "sex               0.0310      0.004      7.977      0.000       0.023       0.039\n",
      "hohedu            0.0085      0.001     10.951      0.000       0.007       0.010\n",
      "welfare_index  3.227e-05   1.72e-05      1.872      0.061   -1.52e-06    6.61e-05\n",
      "indig             0.0468      0.004     11.283      0.000       0.039       0.055\n",
      "==============================================================================\n",
      "Omnibus:                     2993.090   Durbin-Watson:                   1.718\n",
      "Prob(Omnibus):                  0.000   Jarque-Bera (JB):             4083.947\n",
      "Skew:                          -0.940   Prob(JB):                         0.00\n",
      "Kurtosis:                       3.248   Cond. No.                     4.90e+03\n",
      "==============================================================================\n",
      "\n",
      "Notes:\n",
      "[1] Standard Errors assume that the covariance matrix of the errors is correctly specified.\n",
      "[2] The condition number is large, 4.9e+03. This might indicate that there are\n",
      "strong multicollinearity or other numerical problems.\n"
     ]
    }
   ],
   "source": [
    "# Your code here\n",
    "model = smf.ols(formula='sc ~ progresa + age + dist_sec + sex + hohedu + welfare_index + indig', data=post).fit() # Automatically includes the intercept term\n",
    "print(model.summary())"
   ]
  },
  {
   "cell_type": "markdown",
   "metadata": {},
   "source": [
    "*The controls decrease the point estimate of the treatment effect from 3.88 percentage points to 3.52 percentage points. This implies there was some omitted variable bias in our initial specification. The standard error of the treatment effect reduced from 0.005 to 0.004 - which is a small change in absolute value, but about a 20% relative change. This shows an increase in the confidence of the treatment effect size. I interpret these differences to mean that we have improved our model between 2.2 and 2.3 by adding in additional control variables (including ones that caused us to overestimate the treatment effect of progresa by omitting them).*\n",
    "\n",
    "*The coefficient on dist_sec of -0.0117 indicates that a change in one unit of dist_sec (e.g. either one mile or one kilometer) is associated with a 1.17 percentage point decrease in child enrollment. This isn't necessarily evidence of a causal relationship between distance to secondary education and child enrollemnt, just a correlational relationship. To establish a causal relationship between enrollment and distance to school, we would need to experimentally vary the distance to school (at least that's one way to establish that causal connection).*"
   ]
  },
  {
   "cell_type": "markdown",
   "metadata": {},
   "source": [
    "### 2.4 Difference-in-Difference, version 1 (tabular)\n",
    "\n",
    "Thus far, we have computed the effects of Progresa by estimating the difference in 1998 enrollment rates across villages. An alternative approach would be to compute the treatment effect using a difference-in-differences framework.\n",
    "\n",
    "Begin by estimating the average treatment effects of the program for poor households using data from 1997 and 1998. Specifically, calculate the difference (between 1997 and 1998) in enrollment rates among poor households in treated villages; then compute the difference (between 1997 and 1998) in enrollment rates among poor households in control villages. \n",
    "\n",
    "Display your results in a 2x2 table where the rows are Control/Treatment and the columns are 1997/1998. \n",
    "\n",
    "* What is your difference-in-difference estimate of the impact, and how does it compare to your earlier (simple difference) results?\n",
    "* What is the counterfactual assumption underlying this estimate? \n"
   ]
  },
  {
   "cell_type": "code",
   "execution_count": 443,
   "metadata": {
    "jupyter": {
     "outputs_hidden": true
    }
   },
   "outputs": [
    {
     "data": {
      "text/html": [
       "<div>\n",
       "<style scoped>\n",
       "    .dataframe tbody tr th:only-of-type {\n",
       "        vertical-align: middle;\n",
       "    }\n",
       "\n",
       "    .dataframe tbody tr th {\n",
       "        vertical-align: top;\n",
       "    }\n",
       "\n",
       "    .dataframe thead th {\n",
       "        text-align: right;\n",
       "    }\n",
       "</style>\n",
       "<table border=\"1\" class=\"dataframe\">\n",
       "  <thead>\n",
       "    <tr style=\"text-align: right;\">\n",
       "      <th></th>\n",
       "      <th>1997</th>\n",
       "      <th>1998</th>\n",
       "    </tr>\n",
       "  </thead>\n",
       "  <tbody>\n",
       "    <tr>\n",
       "      <th>Control</th>\n",
       "      <td>0.815186</td>\n",
       "      <td>0.807637</td>\n",
       "    </tr>\n",
       "    <tr>\n",
       "      <th>Treatment</th>\n",
       "      <td>0.822697</td>\n",
       "      <td>0.846479</td>\n",
       "    </tr>\n",
       "  </tbody>\n",
       "</table>\n",
       "</div>"
      ],
      "text/plain": [
       "               1997      1998\n",
       "Control    0.815186  0.807637\n",
       "Treatment  0.822697  0.846479"
      ]
     },
     "execution_count": 443,
     "metadata": {},
     "output_type": "execute_result"
    }
   ],
   "source": [
    "# Your code here\n",
    "pre = df[df['year']==97].copy()\n",
    "pre = pre[pre['poor']==1]\n",
    "pre_treat = pre[pre['progresa']==1].copy()\n",
    "pre_control = pre[pre['progresa']==0].copy()\n",
    "post_treat = post[post['progresa']==1].copy()\n",
    "post_control = post[post['progresa']==0].copy()\n",
    "\n",
    "# Need to make this into a table\n",
    "d = {'1997': [pre_control['sc'].mean(), pre_treat['sc'].mean()], \\\n",
    "     '1998': [post_control['sc'].mean(), post_treat['sc'].mean()]}\n",
    "did_table = pd.DataFrame(data=d, index=['Control', 'Treatment'])\n",
    "did_table"
   ]
  },
  {
   "cell_type": "code",
   "execution_count": 444,
   "metadata": {},
   "outputs": [
    {
     "name": "stdout",
     "output_type": "stream",
     "text": [
      "DiD estiamte: 0.031331280319323085\n"
     ]
    }
   ],
   "source": [
    "# Difference in difference estimate = (1997_treat - 1997_control) + (1998_treat - 1998_control)\n",
    "did_estimate = (did_table['1998']['Treatment'] - did_table['1998']['Control']) - (did_table['1997']['Treatment'] - did_table['1997']['Control'])\n",
    "print(\"DiD estiamte: {}\".format(did_estimate))"
   ]
  },
  {
   "cell_type": "code",
   "execution_count": 445,
   "metadata": {},
   "outputs": [
    {
     "data": {
      "image/png": "[encoded data removed]",
      "text/plain": [
       "<Figure size 576x360 with 1 Axes>"
      ]
     },
     "metadata": {
      "needs_background": "light"
     },
     "output_type": "display_data"
    }
   ],
   "source": [
    "# I pulled the visual from the lab to help with interpretation - it looks like it is about a difference of 4.6%!\n",
    "fig = plt.figure(figsize=(8, 5))\n",
    "plt.scatter([0, 1], [pre_control['sc'].mean(), post_control['sc'].mean()], s=200)\n",
    "plt.plot([0, 1], [pre_control['sc'].mean(), post_control['sc'].mean()], label='Control')\n",
    "plt.scatter([0, 1], [pre_treat['sc'].mean(), post_treat['sc'].mean()], s=200)\n",
    "plt.plot([0, 1], [pre_treat['sc'].mean(), post_treat['sc'].mean()], label='Treatment')\n",
    "plt.legend(loc='best', fontsize='large')\n",
    "plt.xlabel('Time (Pre vs. Post)', fontsize='large')\n",
    "plt.ylabel('Child enrollment rates', fontsize='large')\n",
    "plt.title('Child enrollment rates over time', fontsize='x-large')\n",
    "plt.show()"
   ]
  },
  {
   "cell_type": "markdown",
   "metadata": {},
   "source": [
    "*The difference-in-difference estimate of the impact of Progresa on 1998 enrollment rates is 3.13 percentage points. This is smaller than our simple difference estimate from above, which we found to be 3.88 percentage point (or 3.52 percentage point with our multivariate model).*\n",
    "\n",
    "*The counterfactual assumption underlying this estimate is the parallel trends assumption, also stated as control group villages and treatment group villages had parallel trends before treatment (e.g. either no change or change moving in the same direction at the same rate). This is similar to our counterfactual assumption for a randomized control trial - essentially, that the control group represents the state of the world in the absence of treatment (and that it's a good comparison group).*"
   ]
  },
  {
   "cell_type": "markdown",
   "metadata": {},
   "source": [
    "### 2.5 Difference-in-Difference, version 2 (regression)\n",
    "\n",
    "Now use a regression specification to estimate the average treatment effects of the program in a difference-in-differences, for the poor households. Do this (i) first without including any control variables; and then (ii) do it a second time including at least 5 control variables. \n",
    "\n",
    "* What is your estimate (i) of the impact of Progresa? Be very specific in interpreting your coefficients and standard errors, and make sure to specify exactly what units you are measuring and estimating.\n",
    "* Does your estimate of the impact of Progresa from (i) change when you add control variables as in (ii)? How do you explain these changes, or the lack of changes on the `progresa` coefficient between (i) and (ii)?\n",
    "* How do the estimates from (i) and (ii) compare to the difference-in-difference estimates from 2.4 above? What accounts for these differences, if any exist?\n",
    "* What is the counterfactual assumption underlying regression (ii)? "
   ]
  },
  {
   "cell_type": "code",
   "execution_count": 382,
   "metadata": {
    "jupyter": {
     "outputs_hidden": true
    }
   },
   "outputs": [
    {
     "name": "stdout",
     "output_type": "stream",
     "text": [
      "                            OLS Regression Results                            \n",
      "==============================================================================\n",
      "Dep. Variable:                     sc   R-squared:                       0.001\n",
      "Model:                            OLS   Adj. R-squared:                  0.001\n",
      "Method:                 Least Squares   F-statistic:                     28.31\n",
      "Date:                Thu, 02 Feb 2023   Prob (F-statistic):           2.76e-18\n",
      "Time:                        09:58:50   Log-Likelihood:                -26242.\n",
      "No. Observations:               58372   AIC:                         5.249e+04\n",
      "Df Residuals:                   58368   BIC:                         5.253e+04\n",
      "Df Model:                           3                                         \n",
      "Covariance Type:            nonrobust                                         \n",
      "=================================================================================\n",
      "                    coef    std err          t      P>|t|      [0.025      0.975]\n",
      "---------------------------------------------------------------------------------\n",
      "Intercept         1.5474      0.497      3.112      0.002       0.573       2.522\n",
      "progresa         -3.0316      0.632     -4.800      0.000      -4.270      -1.794\n",
      "year             -0.0075      0.005     -1.480      0.139      -0.018       0.002\n",
      "progresa:year     0.0313      0.006      4.835      0.000       0.019       0.044\n",
      "==============================================================================\n",
      "Omnibus:                    15346.988   Durbin-Watson:                   1.397\n",
      "Prob(Omnibus):                  0.000   Jarque-Bera (JB):            30608.651\n",
      "Skew:                          -1.711   Prob(JB):                         0.00\n",
      "Kurtosis:                       3.937   Cond. No.                     5.72e+04\n",
      "==============================================================================\n",
      "\n",
      "Notes:\n",
      "[1] Standard Errors assume that the covariance matrix of the errors is correctly specified.\n",
      "[2] The condition number is large, 5.72e+04. This might indicate that there are\n",
      "strong multicollinearity or other numerical problems.\n"
     ]
    }
   ],
   "source": [
    "# Your code here\n",
    "poor = df[df['poor']==1]\n",
    "model = smf.ols(formula='sc ~ progresa*year', data=poor).fit() # Automatically includes the intercept term\n",
    "print(model.summary())"
   ]
  },
  {
   "cell_type": "code",
   "execution_count": 383,
   "metadata": {},
   "outputs": [
    {
     "name": "stdout",
     "output_type": "stream",
     "text": [
      "                            OLS Regression Results                            \n",
      "==============================================================================\n",
      "Dep. Variable:                     sc   R-squared:                       0.279\n",
      "Model:                            OLS   Adj. R-squared:                  0.278\n",
      "Method:                 Least Squares   F-statistic:                     2488.\n",
      "Date:                Thu, 02 Feb 2023   Prob (F-statistic):               0.00\n",
      "Time:                        10:04:59   Log-Likelihood:                -16656.\n",
      "No. Observations:               58013   AIC:                         3.333e+04\n",
      "Df Residuals:                   58003   BIC:                         3.342e+04\n",
      "Df Model:                           9                                         \n",
      "Covariance Type:            nonrobust                                         \n",
      "=================================================================================\n",
      "                    coef    std err          t      P>|t|      [0.025      0.975]\n",
      "---------------------------------------------------------------------------------\n",
      "Intercept        -1.2257      0.425     -2.881      0.004      -2.059      -0.392\n",
      "progresa         -2.9893      0.539     -5.546      0.000      -4.046      -1.933\n",
      "year              0.0278      0.004      6.370      0.000       0.019       0.036\n",
      "progresa:year     0.0309      0.006      5.582      0.000       0.020       0.042\n",
      "age              -0.0655      0.000   -143.552      0.000      -0.066      -0.065\n",
      "dist_sec         -0.0108      0.001    -17.378      0.000      -0.012      -0.010\n",
      "sex               0.0338      0.003     12.625      0.000       0.029       0.039\n",
      "hohedu            0.0075      0.001     13.841      0.000       0.006       0.009\n",
      "welfare_index  3.555e-05   1.19e-05      2.986      0.003    1.22e-05    5.89e-05\n",
      "indig             0.0499      0.003     17.363      0.000       0.044       0.055\n",
      "==============================================================================\n",
      "Omnibus:                     5532.977   Durbin-Watson:                   1.483\n",
      "Prob(Omnibus):                  0.000   Jarque-Bera (JB):             7289.118\n",
      "Skew:                          -0.866   Prob(JB):                         0.00\n",
      "Kurtosis:                       3.116   Cond. No.                     3.29e+05\n",
      "==============================================================================\n",
      "\n",
      "Notes:\n",
      "[1] Standard Errors assume that the covariance matrix of the errors is correctly specified.\n",
      "[2] The condition number is large, 3.29e+05. This might indicate that there are\n",
      "strong multicollinearity or other numerical problems.\n"
     ]
    }
   ],
   "source": [
    "model = smf.ols(formula='sc ~ progresa*year + age + dist_sec + sex + hohedu + welfare_index + indig', data=poor).fit() # Automatically includes the intercept term\n",
    "print(model.summary())"
   ]
  },
  {
   "cell_type": "markdown",
   "metadata": {},
   "source": [
    "*The estimate of the impact of Progresa from the simple DiD without control variables is -3.03 (0.632), while the difference in difference estimate of the interaction of Progresa and Year is .0313 (0.005) or 3.13 percentage points with a standard error of 0.5. This makes sense, because the Progresa program was launched in places where the need seemed higher, so the presence of the Progresa program likely means lower enrollment rates. However, looking at the interaction term, it is clear that there is a 3.13 percentage point increase in school enrollment in the second year of the program.*\n",
    "\n",
    "*Adding in control variables does change the estimate of Progresa's impact. The effect of Progresa overall and the progresa*year interaction term remain somewhat similar (-3.03 (0.632)) vs. -2.98 (0.539), and 0.0313 (0.006) vs. 0.0309 (0.006)). However, the effect of year changes sign and becomes statistically significant. Specifically, the coefficient on year in the first specification was -0.0075 with a standard error of 0.005, while in the second specification it became 0.0278 with standar error of 0.004. This indicates that there was omitted variable bias in the first specification that was causing us to downwardly estimate the effect of year on student enrollment.*\n",
    "\n",
    "*The difference in difference estimates in the first model without control variables is the same as our estimate in 2.4 (3.13 percentage points). However, once we add in control variables, the estimated effect reduces to 3.09 percentage points - a small change, and one that doesn't effect our standard errors (0.006) at all.*\n",
    "\n",
    "*The counterfactual assumption underlying specification (ii) is that, given similarities in the control variables added, the parallel trends assumption still holds. Stated another way, given age, distance to school, sex, household education, welfare index and indigenous status, families with similar characteristics in the treatment and control groups have the same trends over time. Under this assumption, any differences in change over time we see given those control variables can be associated with treatment status.*"
   ]
  },
  {
   "cell_type": "markdown",
   "metadata": {},
   "source": [
    "### 2.6 Spillover effects\n",
    "\n",
    "Thus far, we have focused on the impact of PROGRESA on the school enrollment of poor households. Repeat your analysis in 2.5, instead focusing on (a) the impact of PROGRESA on the school enrollment of non-poor households, and (b) the impact ofo PROGRESA on *other outcomes* of poor households that might plausibly have been affected by the PROGRESA program.\n",
    "* Do you observe any impacts of PROGRESA on the school enrollment of the non-poor?\n",
    "* Regardless of whether you find evidence of spillovers to non-poor, describe one or two reasons why PROGRESA *might* have impacted non-poor households. Give concrete examples based on the context in which PROGRESA was implemented.\n",
    "* Do you observe any impacts of PROGRESA on other aspects of the welfare of poor households? "
   ]
  },
  {
   "cell_type": "code",
   "execution_count": 385,
   "metadata": {
    "jupyter": {
     "outputs_hidden": true
    }
   },
   "outputs": [
    {
     "name": "stdout",
     "output_type": "stream",
     "text": [
      "                            OLS Regression Results                            \n",
      "==============================================================================\n",
      "Dep. Variable:                     sc   R-squared:                       0.002\n",
      "Model:                            OLS   Adj. R-squared:                  0.002\n",
      "Method:                 Least Squares   F-statistic:                     6.332\n",
      "Date:                Thu, 02 Feb 2023   Prob (F-statistic):           0.000276\n",
      "Time:                        13:28:17   Log-Likelihood:                -5448.5\n",
      "No. Observations:               10425   AIC:                         1.090e+04\n",
      "Df Residuals:                   10421   BIC:                         1.093e+04\n",
      "Df Model:                           3                                         \n",
      "Covariance Type:            nonrobust                                         \n",
      "=================================================================================\n",
      "                    coef    std err          t      P>|t|      [0.025      0.975]\n",
      "---------------------------------------------------------------------------------\n",
      "Intercept        -0.5712      1.241     -0.460      0.645      -3.005       1.862\n",
      "progresa          0.0294      1.601      0.018      0.985      -3.108       3.167\n",
      "year              0.0138      0.013      1.079      0.280      -0.011       0.039\n",
      "progresa:year  3.428e-05      0.016      0.002      0.998      -0.032       0.032\n",
      "==============================================================================\n",
      "Omnibus:                     2002.335   Durbin-Watson:                   1.443\n",
      "Prob(Omnibus):                  0.000   Jarque-Bera (JB):             3446.137\n",
      "Skew:                          -1.408   Prob(JB):                         0.00\n",
      "Kurtosis:                       2.994   Cond. No.                     5.60e+04\n",
      "==============================================================================\n",
      "\n",
      "Notes:\n",
      "[1] Standard Errors assume that the covariance matrix of the errors is correctly specified.\n",
      "[2] The condition number is large, 5.6e+04. This might indicate that there are\n",
      "strong multicollinearity or other numerical problems.\n"
     ]
    }
   ],
   "source": [
    "# Your code here\n",
    "not_poor = df[df['poor']==0]\n",
    "model = smf.ols(formula='sc ~ progresa*year', data=not_poor).fit() # Automatically includes the intercept term\n",
    "print(model.summary())"
   ]
  },
  {
   "cell_type": "code",
   "execution_count": 386,
   "metadata": {},
   "outputs": [
    {
     "name": "stdout",
     "output_type": "stream",
     "text": [
      "                            OLS Regression Results                            \n",
      "==============================================================================\n",
      "Dep. Variable:                     sc   R-squared:                       0.283\n",
      "Model:                            OLS   Adj. R-squared:                  0.283\n",
      "Method:                 Least Squares   F-statistic:                     453.6\n",
      "Date:                Thu, 02 Feb 2023   Prob (F-statistic):               0.00\n",
      "Time:                        13:28:51   Log-Likelihood:                -3675.3\n",
      "No. Observations:               10334   AIC:                             7371.\n",
      "Df Residuals:                   10324   BIC:                             7443.\n",
      "Df Model:                           9                                         \n",
      "Covariance Type:            nonrobust                                         \n",
      "=================================================================================\n",
      "                    coef    std err          t      P>|t|      [0.025      0.975]\n",
      "---------------------------------------------------------------------------------\n",
      "Intercept        -2.3119      1.059     -2.183      0.029      -4.388      -0.236\n",
      "progresa          0.2096      1.362      0.154      0.878      -2.460       2.879\n",
      "year              0.0387      0.011      3.565      0.000       0.017       0.060\n",
      "progresa:year    -0.0019      0.014     -0.134      0.893      -0.029       0.026\n",
      "age              -0.0681      0.001    -59.864      0.000      -0.070      -0.066\n",
      "dist_sec         -0.0159      0.002     -8.958      0.000      -0.019      -0.012\n",
      "sex               0.0295      0.007      4.331      0.000       0.016       0.043\n",
      "hohedu            0.0093      0.001      8.559      0.000       0.007       0.011\n",
      "welfare_index     0.0001   2.84e-05      3.790      0.000     5.2e-05       0.000\n",
      "indig             0.0391      0.010      3.849      0.000       0.019       0.059\n",
      "==============================================================================\n",
      "Omnibus:                      844.510   Durbin-Watson:                   1.494\n",
      "Prob(Omnibus):                  0.000   Jarque-Bera (JB):              824.786\n",
      "Skew:                          -0.635   Prob(JB):                    7.94e-180\n",
      "Kurtosis:                       2.452   Cond. No.                     4.28e+05\n",
      "==============================================================================\n",
      "\n",
      "Notes:\n",
      "[1] Standard Errors assume that the covariance matrix of the errors is correctly specified.\n",
      "[2] The condition number is large, 4.28e+05. This might indicate that there are\n",
      "strong multicollinearity or other numerical problems.\n"
     ]
    }
   ],
   "source": [
    "model = smf.ols(formula='sc ~ progresa*year + age + dist_sec + sex + hohedu + welfare_index + indig', data=not_poor).fit() # Automatically includes the intercept term\n",
    "print(model.summary())"
   ]
  },
  {
   "cell_type": "code",
   "execution_count": 392,
   "metadata": {},
   "outputs": [
    {
     "name": "stdout",
     "output_type": "stream",
     "text": [
      "                            OLS Regression Results                            \n",
      "==============================================================================\n",
      "Dep. Variable:          welfare_index   R-squared:                       0.034\n",
      "Model:                            OLS   Adj. R-squared:                  0.033\n",
      "Method:                 Least Squares   F-statistic:                     224.3\n",
      "Date:                Thu, 02 Feb 2023   Prob (F-statistic):               0.00\n",
      "Time:                        13:34:11   Log-Likelihood:            -3.5628e+05\n",
      "No. Observations:               58013   AIC:                         7.126e+05\n",
      "Df Residuals:                   58003   BIC:                         7.127e+05\n",
      "Df Model:                           9                                         \n",
      "Covariance Type:            nonrobust                                         \n",
      "=================================================================================\n",
      "                    coef    std err          t      P>|t|      [0.025      0.975]\n",
      "---------------------------------------------------------------------------------\n",
      "Intercept      1194.7845    148.246      8.059      0.000     904.221    1485.348\n",
      "progresa         91.1957    187.981      0.485      0.628    -277.248     459.640\n",
      "year             -5.9675      1.522     -3.920      0.000      -8.951      -2.984\n",
      "progresa:year    -0.9914      1.929     -0.514      0.607      -4.771       2.789\n",
      "sc                4.3222      1.448      2.986      0.003       1.485       7.160\n",
      "age               4.5720      0.184     24.796      0.000       4.211       4.933\n",
      "dist_sec         -5.3089      0.215    -24.668      0.000      -5.731      -4.887\n",
      "sex               1.4425      0.936      1.542      0.123      -0.391       3.276\n",
      "hohedu            3.4770      0.188     18.521      0.000       3.109       3.845\n",
      "indig           -13.5359      1.002    -13.503      0.000     -15.501     -11.571\n",
      "==============================================================================\n",
      "Omnibus:                      378.768   Durbin-Watson:                   0.302\n",
      "Prob(Omnibus):                  0.000   Jarque-Bera (JB):              507.947\n",
      "Skew:                          -0.095   Prob(JB):                    5.02e-111\n",
      "Kurtosis:                       3.417   Cond. No.                     5.76e+04\n",
      "==============================================================================\n",
      "\n",
      "Notes:\n",
      "[1] Standard Errors assume that the covariance matrix of the errors is correctly specified.\n",
      "[2] The condition number is large, 5.76e+04. This might indicate that there are\n",
      "strong multicollinearity or other numerical problems.\n"
     ]
    }
   ],
   "source": [
    "model = smf.ols(formula='welfare_index ~ progresa*year + sc + age + dist_sec + sex + hohedu + indig', data=poor).fit() # Automatically includes the intercept term\n",
    "print(model.summary())"
   ]
  },
  {
   "cell_type": "code",
   "execution_count": 394,
   "metadata": {},
   "outputs": [
    {
     "name": "stdout",
     "output_type": "stream",
     "text": [
      "                            OLS Regression Results                            \n",
      "==============================================================================\n",
      "Dep. Variable:                 hohwag   R-squared:                       0.033\n",
      "Model:                            OLS   Adj. R-squared:                  0.033\n",
      "Method:                 Least Squares   F-statistic:                     220.3\n",
      "Date:                Thu, 02 Feb 2023   Prob (F-statistic):               0.00\n",
      "Time:                        13:37:51   Log-Likelihood:            -4.6213e+05\n",
      "No. Observations:               58013   AIC:                         9.243e+05\n",
      "Df Residuals:                   58003   BIC:                         9.244e+05\n",
      "Df Model:                           9                                         \n",
      "Covariance Type:            nonrobust                                         \n",
      "=================================================================================\n",
      "                    coef    std err          t      P>|t|      [0.025      0.975]\n",
      "---------------------------------------------------------------------------------\n",
      "Intercept      -597.5761    919.686     -0.650      0.516   -2400.165    1205.013\n",
      "progresa       1284.4960   1165.547      1.102      0.270    -999.982    3568.974\n",
      "year             10.4299      9.440      1.105      0.269      -8.072      28.932\n",
      "progresa:year   -13.5879     11.958     -1.136      0.256     -37.025       9.850\n",
      "sc                8.9998      8.954      1.005      0.315      -8.550      26.549\n",
      "age              -2.4360      1.148     -2.122      0.034      -4.686      -0.186\n",
      "welfare_index     0.2007      0.026      7.835      0.000       0.150       0.251\n",
      "sex              -6.6994      5.802     -1.155      0.248     -18.070       4.672\n",
      "hohedu           39.7360      1.163     34.178      0.000      37.457      42.015\n",
      "indig          -152.5846      6.215    -24.550      0.000    -164.766    -140.403\n",
      "==============================================================================\n",
      "Omnibus:                    72205.764   Durbin-Watson:                   0.364\n",
      "Prob(Omnibus):                  0.000   Jarque-Bera (JB):         14299153.516\n",
      "Skew:                           6.756   Prob(JB):                         0.00\n",
      "Kurtosis:                      78.716   Cond. No.                     3.29e+05\n",
      "==============================================================================\n",
      "\n",
      "Notes:\n",
      "[1] Standard Errors assume that the covariance matrix of the errors is correctly specified.\n",
      "[2] The condition number is large, 3.29e+05. This might indicate that there are\n",
      "strong multicollinearity or other numerical problems.\n"
     ]
    }
   ],
   "source": [
    "model = smf.ols(formula='hohwag ~ progresa*year + sc + age + welfare_index + sex + hohedu + indig', data=poor).fit() # Automatically includes the intercept term\n",
    "print(model.summary())"
   ]
  },
  {
   "cell_type": "markdown",
   "metadata": {},
   "source": [
    "*When we look at not poor houses, there doesn't seem to be any statistically significant effect of progresa or the progresa*year interaction term. The beta coefficients are all very close to zero, with correspondingly high p-values.*\n",
    "\n",
    "*PROGRESA might have had a spillover effect on non-poor houses regardless of my above findings for a couple of reasons. First,there may have been social effects of the program. If families know the program is going on in their school/village and are seeing other families stress school attendance, there might be social pressure on non-poor families to also improve their students school attendance. Second, since families were financially rewarded for their childrens' school attendance, this creates an incentive for non-poor families to game the system, pose as poor families, and try to also reap the financial rewards of the program.*\n",
    "\n",
    "*I reran the analysis from 2.5 to see if there were any effects of Progresa on welfare_index and hohwag. I hypothesized that the children being enrolled in school might have a positive effect on household welfare since enrollment is associated with cash transfers from the government. Similarly, I thought that children being in school might free up the parents to earn more money. However, there wasn't a statistically significant effet of Progresa on either of these metrics. Specifically, the regressions indicate that the difference and difference estimate of progresa*year on welfare_index is -0.99, or a reducation of almost 1 full point on the welfare index. For head of household wages, the effect size was -13.58, or a reduction of about 13.5 pesos per year.*"
   ]
  },
  {
   "cell_type": "markdown",
   "metadata": {},
   "source": [
    "### 2.7 Summary\n",
    "\n",
    "* Based on all the analysis you have undertaken to date, do you believe that Progresa had a causal impact on the enrollment rates of poor households in Mexico? \n"
   ]
  },
  {
   "cell_type": "markdown",
   "metadata": {},
   "source": [
    "*Based on all of the above analyses, I do believe that Progresa had a causal impact on enrollment rates of poor houses in Mexico. In particular, the difference in difference model was very persuasive, both graphically and statistically. Furthermore, the fact that the statistical significance went away in the DiD models when we looked at non-poor families indicates to me that there is a real relationship being captured in the models. A 3-4 percentage point increase in enrollment rates in one year is also a really big change, particularly when the enrollment rate average was already in the low-80%s. Since this change happened the year after the program was implemented, I think there's a strong case for a causal relationship.*"
   ]
  },
  {
   "cell_type": "code",
   "execution_count": null,
   "metadata": {},
   "outputs": [],
   "source": []
  }
 ],
 "metadata": {
  "anaconda-cloud": {},
  "kernelspec": {
   "display_name": "Python 3 (ipykernel)",
   "language": "python",
   "name": "python3"
  },
  "language_info": {
   "codemirror_mode": {
    "name": "ipython",
    "version": 3
   },
   "file_extension": ".py",
   "mimetype": "text/x-python",
   "name": "python",
   "nbconvert_exporter": "python",
   "pygments_lexer": "ipython3",
   "version": "3.9.12"
  }
 },
 "nbformat": 4,
 "nbformat_minor": 4
}
